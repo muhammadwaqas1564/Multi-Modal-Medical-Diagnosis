{
  "cells": [
    {
      "cell_type": "code",
      "execution_count": 3,
      "metadata": {
        "colab": {
          "base_uri": "https://localhost:8080/"
        },
        "id": "2NXU9OiQBcs_",
        "outputId": "658f11a4-ff05-405e-b35a-71ba70c3f977"
      },
      "outputs": [
        {
          "output_type": "stream",
          "name": "stdout",
          "text": [
            "Dataset URL: https://www.kaggle.com/datasets/ayeshacamran/mimic-clinical-notes\n",
            "License(s): other\n",
            "Downloading mimic-clinical-notes.zip to /content\n",
            "100% 1.10G/1.11G [00:14<00:00, 94.6MB/s]\n",
            "100% 1.11G/1.11G [00:14<00:00, 80.6MB/s]\n"
          ]
        }
      ],
      "source": [
        "!kaggle datasets download -d ayeshacamran/mimic-clinical-notes"
      ]
    },
    {
      "cell_type": "code",
      "execution_count": 2,
      "metadata": {
        "id": "12S99cxHB293",
        "colab": {
          "base_uri": "https://localhost:8080/"
        },
        "outputId": "fd64a506-0a47-4cc0-990e-d527d246d510"
      },
      "outputs": [
        {
          "output_type": "stream",
          "name": "stdout",
          "text": [
            "cp: cannot stat 'kaggle.json': No such file or directory\n"
          ]
        }
      ],
      "source": [
        "!mkdir -p ~/.kaggle\n",
        "!cp kaggle.json ~/.kaggle/\n"
      ]
    },
    {
      "cell_type": "code",
      "execution_count": 4,
      "metadata": {
        "id": "e86M0sjbB3BO"
      },
      "outputs": [],
      "source": [
        "import zipfile\n",
        "zip_ref =zipfile.ZipFile('/content/mimic-clinical-notes.zip','r');\n",
        "zip_ref.extractall('/content');\n",
        "zip_ref.close();"
      ]
    },
    {
      "cell_type": "code",
      "execution_count": 1,
      "metadata": {
        "colab": {
          "base_uri": "https://localhost:8080/"
        },
        "id": "QF55B4TiCdaC",
        "outputId": "5e76286f-70e6-4bbc-ca7f-0db82fa27b43"
      },
      "outputs": [
        {
          "output_type": "stream",
          "name": "stdout",
          "text": [
            "Requirement already satisfied: transformers in /usr/local/lib/python3.10/dist-packages (4.42.4)\n",
            "Collecting datasets\n",
            "  Downloading datasets-2.21.0-py3-none-any.whl.metadata (21 kB)\n",
            "Requirement already satisfied: scikit-learn in /usr/local/lib/python3.10/dist-packages (1.3.2)\n",
            "Requirement already satisfied: torch in /usr/local/lib/python3.10/dist-packages (2.4.0+cu121)\n",
            "Requirement already satisfied: filelock in /usr/local/lib/python3.10/dist-packages (from transformers) (3.15.4)\n",
            "Requirement already satisfied: huggingface-hub<1.0,>=0.23.2 in /usr/local/lib/python3.10/dist-packages (from transformers) (0.23.5)\n",
            "Requirement already satisfied: numpy<2.0,>=1.17 in /usr/local/lib/python3.10/dist-packages (from transformers) (1.26.4)\n",
            "Requirement already satisfied: packaging>=20.0 in /usr/local/lib/python3.10/dist-packages (from transformers) (24.1)\n",
            "Requirement already satisfied: pyyaml>=5.1 in /usr/local/lib/python3.10/dist-packages (from transformers) (6.0.2)\n",
            "Requirement already satisfied: regex!=2019.12.17 in /usr/local/lib/python3.10/dist-packages (from transformers) (2024.5.15)\n",
            "Requirement already satisfied: requests in /usr/local/lib/python3.10/dist-packages (from transformers) (2.32.3)\n",
            "Requirement already satisfied: safetensors>=0.4.1 in /usr/local/lib/python3.10/dist-packages (from transformers) (0.4.4)\n",
            "Requirement already satisfied: tokenizers<0.20,>=0.19 in /usr/local/lib/python3.10/dist-packages (from transformers) (0.19.1)\n",
            "Requirement already satisfied: tqdm>=4.27 in /usr/local/lib/python3.10/dist-packages (from transformers) (4.66.5)\n",
            "Collecting pyarrow>=15.0.0 (from datasets)\n",
            "  Downloading pyarrow-17.0.0-cp310-cp310-manylinux_2_28_x86_64.whl.metadata (3.3 kB)\n",
            "Collecting dill<0.3.9,>=0.3.0 (from datasets)\n",
            "  Downloading dill-0.3.8-py3-none-any.whl.metadata (10 kB)\n",
            "Requirement already satisfied: pandas in /usr/local/lib/python3.10/dist-packages (from datasets) (2.1.4)\n",
            "Collecting xxhash (from datasets)\n",
            "  Downloading xxhash-3.5.0-cp310-cp310-manylinux_2_17_x86_64.manylinux2014_x86_64.whl.metadata (12 kB)\n",
            "Collecting multiprocess (from datasets)\n",
            "  Downloading multiprocess-0.70.16-py310-none-any.whl.metadata (7.2 kB)\n",
            "Requirement already satisfied: fsspec<=2024.6.1,>=2023.1.0 in /usr/local/lib/python3.10/dist-packages (from fsspec[http]<=2024.6.1,>=2023.1.0->datasets) (2024.6.1)\n",
            "Requirement already satisfied: aiohttp in /usr/local/lib/python3.10/dist-packages (from datasets) (3.10.5)\n",
            "Requirement already satisfied: scipy>=1.5.0 in /usr/local/lib/python3.10/dist-packages (from scikit-learn) (1.13.1)\n",
            "Requirement already satisfied: joblib>=1.1.1 in /usr/local/lib/python3.10/dist-packages (from scikit-learn) (1.4.2)\n",
            "Requirement already satisfied: threadpoolctl>=2.0.0 in /usr/local/lib/python3.10/dist-packages (from scikit-learn) (3.5.0)\n",
            "Requirement already satisfied: typing-extensions>=4.8.0 in /usr/local/lib/python3.10/dist-packages (from torch) (4.12.2)\n",
            "Requirement already satisfied: sympy in /usr/local/lib/python3.10/dist-packages (from torch) (1.13.2)\n",
            "Requirement already satisfied: networkx in /usr/local/lib/python3.10/dist-packages (from torch) (3.3)\n",
            "Requirement already satisfied: jinja2 in /usr/local/lib/python3.10/dist-packages (from torch) (3.1.4)\n",
            "Requirement already satisfied: aiohappyeyeballs>=2.3.0 in /usr/local/lib/python3.10/dist-packages (from aiohttp->datasets) (2.4.0)\n",
            "Requirement already satisfied: aiosignal>=1.1.2 in /usr/local/lib/python3.10/dist-packages (from aiohttp->datasets) (1.3.1)\n",
            "Requirement already satisfied: attrs>=17.3.0 in /usr/local/lib/python3.10/dist-packages (from aiohttp->datasets) (24.2.0)\n",
            "Requirement already satisfied: frozenlist>=1.1.1 in /usr/local/lib/python3.10/dist-packages (from aiohttp->datasets) (1.4.1)\n",
            "Requirement already satisfied: multidict<7.0,>=4.5 in /usr/local/lib/python3.10/dist-packages (from aiohttp->datasets) (6.0.5)\n",
            "Requirement already satisfied: yarl<2.0,>=1.0 in /usr/local/lib/python3.10/dist-packages (from aiohttp->datasets) (1.9.4)\n",
            "Requirement already satisfied: async-timeout<5.0,>=4.0 in /usr/local/lib/python3.10/dist-packages (from aiohttp->datasets) (4.0.3)\n",
            "Requirement already satisfied: charset-normalizer<4,>=2 in /usr/local/lib/python3.10/dist-packages (from requests->transformers) (3.3.2)\n",
            "Requirement already satisfied: idna<4,>=2.5 in /usr/local/lib/python3.10/dist-packages (from requests->transformers) (3.8)\n",
            "Requirement already satisfied: urllib3<3,>=1.21.1 in /usr/local/lib/python3.10/dist-packages (from requests->transformers) (2.0.7)\n",
            "Requirement already satisfied: certifi>=2017.4.17 in /usr/local/lib/python3.10/dist-packages (from requests->transformers) (2024.7.4)\n",
            "Requirement already satisfied: MarkupSafe>=2.0 in /usr/local/lib/python3.10/dist-packages (from jinja2->torch) (2.1.5)\n",
            "Requirement already satisfied: python-dateutil>=2.8.2 in /usr/local/lib/python3.10/dist-packages (from pandas->datasets) (2.8.2)\n",
            "Requirement already satisfied: pytz>=2020.1 in /usr/local/lib/python3.10/dist-packages (from pandas->datasets) (2024.1)\n",
            "Requirement already satisfied: tzdata>=2022.1 in /usr/local/lib/python3.10/dist-packages (from pandas->datasets) (2024.1)\n",
            "Requirement already satisfied: mpmath<1.4,>=1.1.0 in /usr/local/lib/python3.10/dist-packages (from sympy->torch) (1.3.0)\n",
            "Requirement already satisfied: six>=1.5 in /usr/local/lib/python3.10/dist-packages (from python-dateutil>=2.8.2->pandas->datasets) (1.16.0)\n",
            "Downloading datasets-2.21.0-py3-none-any.whl (527 kB)\n",
            "\u001b[2K   \u001b[90m━━━━━━━━━━━━━━━━━━━━━━━━━━━━━━━━━━━━━━━━\u001b[0m \u001b[32m527.3/527.3 kB\u001b[0m \u001b[31m19.3 MB/s\u001b[0m eta \u001b[36m0:00:00\u001b[0m\n",
            "\u001b[?25hDownloading dill-0.3.8-py3-none-any.whl (116 kB)\n",
            "\u001b[2K   \u001b[90m━━━━━━━━━━━━━━━━━━━━━━━━━━━━━━━━━━━━━━━━\u001b[0m \u001b[32m116.3/116.3 kB\u001b[0m \u001b[31m12.6 MB/s\u001b[0m eta \u001b[36m0:00:00\u001b[0m\n",
            "\u001b[?25hDownloading pyarrow-17.0.0-cp310-cp310-manylinux_2_28_x86_64.whl (39.9 MB)\n",
            "\u001b[2K   \u001b[90m━━━━━━━━━━━━━━━━━━━━━━━━━━━━━━━━━━━━━━━━\u001b[0m \u001b[32m39.9/39.9 MB\u001b[0m \u001b[31m20.3 MB/s\u001b[0m eta \u001b[36m0:00:00\u001b[0m\n",
            "\u001b[?25hDownloading multiprocess-0.70.16-py310-none-any.whl (134 kB)\n",
            "\u001b[2K   \u001b[90m━━━━━━━━━━━━━━━━━━━━━━━━━━━━━━━━━━━━━━━━\u001b[0m \u001b[32m134.8/134.8 kB\u001b[0m \u001b[31m13.8 MB/s\u001b[0m eta \u001b[36m0:00:00\u001b[0m\n",
            "\u001b[?25hDownloading xxhash-3.5.0-cp310-cp310-manylinux_2_17_x86_64.manylinux2014_x86_64.whl (194 kB)\n",
            "\u001b[2K   \u001b[90m━━━━━━━━━━━━━━━━━━━━━━━━━━━━━━━━━━━━━━━━\u001b[0m \u001b[32m194.1/194.1 kB\u001b[0m \u001b[31m22.0 MB/s\u001b[0m eta \u001b[36m0:00:00\u001b[0m\n",
            "\u001b[?25hInstalling collected packages: xxhash, pyarrow, dill, multiprocess, datasets\n",
            "  Attempting uninstall: pyarrow\n",
            "    Found existing installation: pyarrow 14.0.2\n",
            "    Uninstalling pyarrow-14.0.2:\n",
            "      Successfully uninstalled pyarrow-14.0.2\n",
            "\u001b[31mERROR: pip's dependency resolver does not currently take into account all the packages that are installed. This behaviour is the source of the following dependency conflicts.\n",
            "cudf-cu12 24.4.1 requires pyarrow<15.0.0a0,>=14.0.1, but you have pyarrow 17.0.0 which is incompatible.\n",
            "ibis-framework 8.0.0 requires pyarrow<16,>=2, but you have pyarrow 17.0.0 which is incompatible.\u001b[0m\u001b[31m\n",
            "\u001b[0mSuccessfully installed datasets-2.21.0 dill-0.3.8 multiprocess-0.70.16 pyarrow-17.0.0 xxhash-3.5.0\n"
          ]
        }
      ],
      "source": [
        "!pip install transformers datasets scikit-learn torch"
      ]
    },
    {
      "cell_type": "code",
      "source": [
        "import pandas as pd\n",
        "\n",
        "\n",
        "noteevents_path = '/content/NOTEEVENTS.csv/NOTEEVENTS.csv'\n",
        "notes_df = pd.read_csv(noteevents_path)\n",
        "sample_data = notes_df.sample(n=5000, random_state=42);\n",
        "\n",
        "\n",
        "print(sample_data.head())\n",
        "print(sample_data.info())\n"
      ],
      "metadata": {
        "colab": {
          "base_uri": "https://localhost:8080/"
        },
        "id": "LK4b_NeFutop",
        "outputId": "55e8ac92-22e8-44f9-c364-7ef22b6b83b8"
      },
      "execution_count": 5,
      "outputs": [
        {
          "output_type": "stream",
          "name": "stderr",
          "text": [
            "<ipython-input-5-03fff4dd19e3>:5: DtypeWarning: Columns (4,5) have mixed types. Specify dtype option on import or set low_memory=False.\n",
            "  notes_df = pd.read_csv(noteevents_path)\n"
          ]
        },
        {
          "output_type": "stream",
          "name": "stdout",
          "text": [
            "          ROW_ID  SUBJECT_ID   HADM_ID   CHARTDATE            CHARTTIME  \\\n",
            "1292716  1295263        2549  159440.0  2132-04-02  2132-04-02 13:09:00   \n",
            "1160271  1175599       29621  190624.0  2149-02-23  2149-02-23 03:27:00   \n",
            "1549380  1555118       22384  142591.0  2185-03-26  2185-03-26 17:58:00   \n",
            "7474        5743         690  152820.0  2182-09-14                  NaN   \n",
            "2014768  2023163       25560  156143.0  2154-11-18  2154-11-18 10:44:00   \n",
            "\n",
            "                   STORETIME           CATEGORY          DESCRIPTION     CGID  \\\n",
            "1292716  2132-04-02 13:35:00      Nursing/other               Report  18566.0   \n",
            "1160271                  NaN          Radiology  CHEST (PORTABLE AP)      NaN   \n",
            "1549380  2185-03-26 18:01:00      Nursing/other               Report  16985.0   \n",
            "7474                     NaN  Discharge summary               Report      NaN   \n",
            "2014768  2154-11-18 17:08:00      Nursing/other               Report  16888.0   \n",
            "\n",
            "         ISERROR                                               TEXT  \n",
            "1292716      NaN  CCU NSG TRANSFER SUMMARY UPDATE: RESP FAILURE\\...  \n",
            "1160271      NaN  [**2149-2-23**] 3:27 AM\\n CHEST (PORTABLE AP) ...  \n",
            "1549380      NaN  Respiratory Care\\nPt remains intubated (#7.5 E...  \n",
            "7474         NaN  Admission Date:  [**2182-9-12**]       Dischar...  \n",
            "2014768      NaN  Neonatology\\nOn exam pink active non-dysmorphi...  \n",
            "<class 'pandas.core.frame.DataFrame'>\n",
            "Index: 5000 entries, 1292716 to 1876662\n",
            "Data columns (total 11 columns):\n",
            " #   Column       Non-Null Count  Dtype  \n",
            "---  ------       --------------  -----  \n",
            " 0   ROW_ID       5000 non-null   int64  \n",
            " 1   SUBJECT_ID   5000 non-null   int64  \n",
            " 2   HADM_ID      4473 non-null   float64\n",
            " 3   CHARTDATE    5000 non-null   object \n",
            " 4   CHARTTIME    4240 non-null   object \n",
            " 5   STORETIME    2970 non-null   object \n",
            " 6   CATEGORY     5000 non-null   object \n",
            " 7   DESCRIPTION  5000 non-null   object \n",
            " 8   CGID         2970 non-null   float64\n",
            " 9   ISERROR      0 non-null      float64\n",
            " 10  TEXT         5000 non-null   object \n",
            "dtypes: float64(3), int64(2), object(6)\n",
            "memory usage: 468.8+ KB\n",
            "None\n"
          ]
        }
      ]
    },
    {
      "cell_type": "code",
      "execution_count": 6,
      "metadata": {
        "colab": {
          "base_uri": "https://localhost:8080/"
        },
        "id": "kJ6f8EjVDq3y",
        "outputId": "394a7bbc-77af-4d82-e039-2c863f918e44"
      },
      "outputs": [
        {
          "output_type": "stream",
          "name": "stdout",
          "text": [
            "5000\n"
          ]
        }
      ],
      "source": [
        "print(len(sample_data))"
      ]
    },
    {
      "cell_type": "code",
      "execution_count": 7,
      "metadata": {
        "colab": {
          "base_uri": "https://localhost:8080/"
        },
        "id": "oVeCB_ErDvA-",
        "outputId": "42afc822-24f8-4142-afb0-fad7f5f6adeb"
      },
      "outputs": [
        {
          "output_type": "stream",
          "name": "stdout",
          "text": [
            "Requirement already satisfied: tensorflow in /usr/local/lib/python3.10/dist-packages (2.17.0)\n",
            "Requirement already satisfied: absl-py>=1.0.0 in /usr/local/lib/python3.10/dist-packages (from tensorflow) (1.4.0)\n",
            "Requirement already satisfied: astunparse>=1.6.0 in /usr/local/lib/python3.10/dist-packages (from tensorflow) (1.6.3)\n",
            "Requirement already satisfied: flatbuffers>=24.3.25 in /usr/local/lib/python3.10/dist-packages (from tensorflow) (24.3.25)\n",
            "Requirement already satisfied: gast!=0.5.0,!=0.5.1,!=0.5.2,>=0.2.1 in /usr/local/lib/python3.10/dist-packages (from tensorflow) (0.6.0)\n",
            "Requirement already satisfied: google-pasta>=0.1.1 in /usr/local/lib/python3.10/dist-packages (from tensorflow) (0.2.0)\n",
            "Requirement already satisfied: h5py>=3.10.0 in /usr/local/lib/python3.10/dist-packages (from tensorflow) (3.11.0)\n",
            "Requirement already satisfied: libclang>=13.0.0 in /usr/local/lib/python3.10/dist-packages (from tensorflow) (18.1.1)\n",
            "Requirement already satisfied: ml-dtypes<0.5.0,>=0.3.1 in /usr/local/lib/python3.10/dist-packages (from tensorflow) (0.4.0)\n",
            "Requirement already satisfied: opt-einsum>=2.3.2 in /usr/local/lib/python3.10/dist-packages (from tensorflow) (3.3.0)\n",
            "Requirement already satisfied: packaging in /usr/local/lib/python3.10/dist-packages (from tensorflow) (24.1)\n",
            "Requirement already satisfied: protobuf!=4.21.0,!=4.21.1,!=4.21.2,!=4.21.3,!=4.21.4,!=4.21.5,<5.0.0dev,>=3.20.3 in /usr/local/lib/python3.10/dist-packages (from tensorflow) (3.20.3)\n",
            "Requirement already satisfied: requests<3,>=2.21.0 in /usr/local/lib/python3.10/dist-packages (from tensorflow) (2.32.3)\n",
            "Requirement already satisfied: setuptools in /usr/local/lib/python3.10/dist-packages (from tensorflow) (71.0.4)\n",
            "Requirement already satisfied: six>=1.12.0 in /usr/local/lib/python3.10/dist-packages (from tensorflow) (1.16.0)\n",
            "Requirement already satisfied: termcolor>=1.1.0 in /usr/local/lib/python3.10/dist-packages (from tensorflow) (2.4.0)\n",
            "Requirement already satisfied: typing-extensions>=3.6.6 in /usr/local/lib/python3.10/dist-packages (from tensorflow) (4.12.2)\n",
            "Requirement already satisfied: wrapt>=1.11.0 in /usr/local/lib/python3.10/dist-packages (from tensorflow) (1.16.0)\n",
            "Requirement already satisfied: grpcio<2.0,>=1.24.3 in /usr/local/lib/python3.10/dist-packages (from tensorflow) (1.64.1)\n",
            "Requirement already satisfied: tensorboard<2.18,>=2.17 in /usr/local/lib/python3.10/dist-packages (from tensorflow) (2.17.0)\n",
            "Requirement already satisfied: keras>=3.2.0 in /usr/local/lib/python3.10/dist-packages (from tensorflow) (3.4.1)\n",
            "Requirement already satisfied: tensorflow-io-gcs-filesystem>=0.23.1 in /usr/local/lib/python3.10/dist-packages (from tensorflow) (0.37.1)\n",
            "Requirement already satisfied: numpy<2.0.0,>=1.23.5 in /usr/local/lib/python3.10/dist-packages (from tensorflow) (1.26.4)\n",
            "Requirement already satisfied: wheel<1.0,>=0.23.0 in /usr/local/lib/python3.10/dist-packages (from astunparse>=1.6.0->tensorflow) (0.44.0)\n",
            "Requirement already satisfied: rich in /usr/local/lib/python3.10/dist-packages (from keras>=3.2.0->tensorflow) (13.8.0)\n",
            "Requirement already satisfied: namex in /usr/local/lib/python3.10/dist-packages (from keras>=3.2.0->tensorflow) (0.0.8)\n",
            "Requirement already satisfied: optree in /usr/local/lib/python3.10/dist-packages (from keras>=3.2.0->tensorflow) (0.12.1)\n",
            "Requirement already satisfied: charset-normalizer<4,>=2 in /usr/local/lib/python3.10/dist-packages (from requests<3,>=2.21.0->tensorflow) (3.3.2)\n",
            "Requirement already satisfied: idna<4,>=2.5 in /usr/local/lib/python3.10/dist-packages (from requests<3,>=2.21.0->tensorflow) (3.8)\n",
            "Requirement already satisfied: urllib3<3,>=1.21.1 in /usr/local/lib/python3.10/dist-packages (from requests<3,>=2.21.0->tensorflow) (2.0.7)\n",
            "Requirement already satisfied: certifi>=2017.4.17 in /usr/local/lib/python3.10/dist-packages (from requests<3,>=2.21.0->tensorflow) (2024.7.4)\n",
            "Requirement already satisfied: markdown>=2.6.8 in /usr/local/lib/python3.10/dist-packages (from tensorboard<2.18,>=2.17->tensorflow) (3.7)\n",
            "Requirement already satisfied: tensorboard-data-server<0.8.0,>=0.7.0 in /usr/local/lib/python3.10/dist-packages (from tensorboard<2.18,>=2.17->tensorflow) (0.7.2)\n",
            "Requirement already satisfied: werkzeug>=1.0.1 in /usr/local/lib/python3.10/dist-packages (from tensorboard<2.18,>=2.17->tensorflow) (3.0.4)\n",
            "Requirement already satisfied: MarkupSafe>=2.1.1 in /usr/local/lib/python3.10/dist-packages (from werkzeug>=1.0.1->tensorboard<2.18,>=2.17->tensorflow) (2.1.5)\n",
            "Requirement already satisfied: markdown-it-py>=2.2.0 in /usr/local/lib/python3.10/dist-packages (from rich->keras>=3.2.0->tensorflow) (3.0.0)\n",
            "Requirement already satisfied: pygments<3.0.0,>=2.13.0 in /usr/local/lib/python3.10/dist-packages (from rich->keras>=3.2.0->tensorflow) (2.16.1)\n",
            "Requirement already satisfied: mdurl~=0.1 in /usr/local/lib/python3.10/dist-packages (from markdown-it-py>=2.2.0->rich->keras>=3.2.0->tensorflow) (0.1.2)\n"
          ]
        }
      ],
      "source": [
        "!pip install tensorflow"
      ]
    },
    {
      "cell_type": "code",
      "execution_count": 8,
      "metadata": {
        "colab": {
          "base_uri": "https://localhost:8080/"
        },
        "id": "AzzFpVAsUYHJ",
        "outputId": "12d7941a-0661-48d7-db18-a3fdb3854622"
      },
      "outputs": [
        {
          "output_type": "stream",
          "name": "stdout",
          "text": [
            "5000\n"
          ]
        }
      ],
      "source": [
        "print(len(sample_data));"
      ]
    },
    {
      "cell_type": "code",
      "execution_count": 9,
      "metadata": {
        "colab": {
          "base_uri": "https://localhost:8080/"
        },
        "id": "gzZjJFW_EdRz",
        "outputId": "1aa17e1c-e216-4120-aedd-cf163aafc23d"
      },
      "outputs": [
        {
          "output_type": "stream",
          "name": "stdout",
          "text": [
            "          ROW_ID  SUBJECT_ID   HADM_ID   CHARTDATE            CHARTTIME  \\\n",
            "1292716  1295263        2549  159440.0  2132-04-02  2132-04-02 13:09:00   \n",
            "1160271  1175599       29621  190624.0  2149-02-23  2149-02-23 03:27:00   \n",
            "1549380  1555118       22384  142591.0  2185-03-26  2185-03-26 17:58:00   \n",
            "7474        5743         690  152820.0  2182-09-14                  NaN   \n",
            "2014768  2023163       25560  156143.0  2154-11-18  2154-11-18 10:44:00   \n",
            "\n",
            "                   STORETIME           CATEGORY          DESCRIPTION     CGID  \\\n",
            "1292716  2132-04-02 13:35:00      Nursing/other               Report  18566.0   \n",
            "1160271                  NaN          Radiology  CHEST (PORTABLE AP)      NaN   \n",
            "1549380  2185-03-26 18:01:00      Nursing/other               Report  16985.0   \n",
            "7474                     NaN  Discharge summary               Report      NaN   \n",
            "2014768  2154-11-18 17:08:00      Nursing/other               Report  16888.0   \n",
            "\n",
            "         ISERROR                                               TEXT  \n",
            "1292716      NaN  CCU NSG TRANSFER SUMMARY UPDATE: RESP FAILURE\\...  \n",
            "1160271      NaN  [**2149-2-23**] 3:27 AM\\n CHEST (PORTABLE AP) ...  \n",
            "1549380      NaN  Respiratory Care\\nPt remains intubated (#7.5 E...  \n",
            "7474         NaN  Admission Date:  [**2182-9-12**]       Dischar...  \n",
            "2014768      NaN  Neonatology\\nOn exam pink active non-dysmorphi...  \n"
          ]
        }
      ],
      "source": [
        "print(sample_data.head());"
      ]
    },
    {
      "cell_type": "code",
      "source": [
        "print(notes_df['TEXT'].head());"
      ],
      "metadata": {
        "colab": {
          "base_uri": "https://localhost:8080/"
        },
        "id": "XfQEQCPIa-DH",
        "outputId": "4389955e-907f-4934-afa4-0c3b3ef3f692"
      },
      "execution_count": 10,
      "outputs": [
        {
          "output_type": "stream",
          "name": "stdout",
          "text": [
            "0    Admission Date:  [**2151-7-16**]       Dischar...\n",
            "1    Admission Date:  [**2118-6-2**]       Discharg...\n",
            "2    Admission Date:  [**2119-5-4**]              D...\n",
            "3    Admission Date:  [**2124-7-21**]              ...\n",
            "4    Admission Date:  [**2162-3-3**]              D...\n",
            "Name: TEXT, dtype: object\n"
          ]
        }
      ]
    },
    {
      "cell_type": "code",
      "source": [
        "!pip install nltk pandas scikit-learn\n"
      ],
      "metadata": {
        "colab": {
          "base_uri": "https://localhost:8080/"
        },
        "id": "1RnIx52icG8F",
        "outputId": "caf86e78-f6df-474b-d92a-a0bff44beb47"
      },
      "execution_count": 11,
      "outputs": [
        {
          "output_type": "stream",
          "name": "stdout",
          "text": [
            "Requirement already satisfied: nltk in /usr/local/lib/python3.10/dist-packages (3.8.1)\n",
            "Requirement already satisfied: pandas in /usr/local/lib/python3.10/dist-packages (2.1.4)\n",
            "Requirement already satisfied: scikit-learn in /usr/local/lib/python3.10/dist-packages (1.3.2)\n",
            "Requirement already satisfied: click in /usr/local/lib/python3.10/dist-packages (from nltk) (8.1.7)\n",
            "Requirement already satisfied: joblib in /usr/local/lib/python3.10/dist-packages (from nltk) (1.4.2)\n",
            "Requirement already satisfied: regex>=2021.8.3 in /usr/local/lib/python3.10/dist-packages (from nltk) (2024.5.15)\n",
            "Requirement already satisfied: tqdm in /usr/local/lib/python3.10/dist-packages (from nltk) (4.66.5)\n",
            "Requirement already satisfied: numpy<2,>=1.22.4 in /usr/local/lib/python3.10/dist-packages (from pandas) (1.26.4)\n",
            "Requirement already satisfied: python-dateutil>=2.8.2 in /usr/local/lib/python3.10/dist-packages (from pandas) (2.8.2)\n",
            "Requirement already satisfied: pytz>=2020.1 in /usr/local/lib/python3.10/dist-packages (from pandas) (2024.1)\n",
            "Requirement already satisfied: tzdata>=2022.1 in /usr/local/lib/python3.10/dist-packages (from pandas) (2024.1)\n",
            "Requirement already satisfied: scipy>=1.5.0 in /usr/local/lib/python3.10/dist-packages (from scikit-learn) (1.13.1)\n",
            "Requirement already satisfied: threadpoolctl>=2.0.0 in /usr/local/lib/python3.10/dist-packages (from scikit-learn) (3.5.0)\n",
            "Requirement already satisfied: six>=1.5 in /usr/local/lib/python3.10/dist-packages (from python-dateutil>=2.8.2->pandas) (1.16.0)\n"
          ]
        }
      ]
    },
    {
      "cell_type": "code",
      "source": [
        "!pip install nltk punkt"
      ],
      "metadata": {
        "colab": {
          "base_uri": "https://localhost:8080/"
        },
        "id": "0-1EQkWH1i7d",
        "outputId": "42bb29ad-64b7-433b-d00f-3c3d15477357"
      },
      "execution_count": 12,
      "outputs": [
        {
          "output_type": "stream",
          "name": "stdout",
          "text": [
            "Requirement already satisfied: nltk in /usr/local/lib/python3.10/dist-packages (3.8.1)\n",
            "\u001b[31mERROR: Could not find a version that satisfies the requirement punkt (from versions: none)\u001b[0m\u001b[31m\n",
            "\u001b[0m\u001b[31mERROR: No matching distribution found for punkt\u001b[0m\u001b[31m\n",
            "\u001b[0m"
          ]
        }
      ]
    },
    {
      "cell_type": "code",
      "source": [],
      "metadata": {
        "id": "9twmMdo-1y4n"
      },
      "execution_count": null,
      "outputs": []
    },
    {
      "cell_type": "code",
      "source": [
        "from nltk.tokenize import word_tokenize"
      ],
      "metadata": {
        "id": "WLSqn06X1oB3"
      },
      "execution_count": 13,
      "outputs": []
    },
    {
      "cell_type": "code",
      "source": [
        "import pandas as pd\n",
        "import nltk\n",
        "import re\n",
        "\n",
        "\n",
        "\n",
        "def preprocess_text(text):\n",
        "    text = re.sub(r'[^\\w\\s]', '', text)\n",
        "    text = re.sub(r'\\[.*?\\]', '', text)\n",
        "    text = re.sub(r'\\d+', '', text)\n",
        "    text = re.sub(r'\\s+', ' ', text)\n",
        "    text = text.lower().strip()\n",
        "    return text\n",
        "\n",
        "sample_data['clean_text'] = sample_data['TEXT'].apply(preprocess_text)\n",
        "\n",
        "\n",
        "\n"
      ],
      "metadata": {
        "id": "kOiqu13VckSQ"
      },
      "execution_count": 14,
      "outputs": []
    },
    {
      "cell_type": "code",
      "source": [
        "sample_data['clean_text'].head()"
      ],
      "metadata": {
        "colab": {
          "base_uri": "https://localhost:8080/",
          "height": 241
        },
        "id": "X-xq70Eqculo",
        "outputId": "9d47dab0-9abb-4d1a-85e2-f5e34ce59162"
      },
      "execution_count": 15,
      "outputs": [
        {
          "output_type": "execute_result",
          "data": {
            "text/plain": [
              "1292716    ccu nsg transfer summary update resp failure c...\n",
              "1160271    am chest portable ap clip clip number radiolog...\n",
              "1549380    respiratory care pt remains intubated ett lip ...\n",
              "7474       admission date discharge date date of birth se...\n",
              "2014768    neonatology on exam pink active nondysmorphic ...\n",
              "Name: clean_text, dtype: object"
            ],
            "text/html": [
              "<div>\n",
              "<style scoped>\n",
              "    .dataframe tbody tr th:only-of-type {\n",
              "        vertical-align: middle;\n",
              "    }\n",
              "\n",
              "    .dataframe tbody tr th {\n",
              "        vertical-align: top;\n",
              "    }\n",
              "\n",
              "    .dataframe thead th {\n",
              "        text-align: right;\n",
              "    }\n",
              "</style>\n",
              "<table border=\"1\" class=\"dataframe\">\n",
              "  <thead>\n",
              "    <tr style=\"text-align: right;\">\n",
              "      <th></th>\n",
              "      <th>clean_text</th>\n",
              "    </tr>\n",
              "  </thead>\n",
              "  <tbody>\n",
              "    <tr>\n",
              "      <th>1292716</th>\n",
              "      <td>ccu nsg transfer summary update resp failure c...</td>\n",
              "    </tr>\n",
              "    <tr>\n",
              "      <th>1160271</th>\n",
              "      <td>am chest portable ap clip clip number radiolog...</td>\n",
              "    </tr>\n",
              "    <tr>\n",
              "      <th>1549380</th>\n",
              "      <td>respiratory care pt remains intubated ett lip ...</td>\n",
              "    </tr>\n",
              "    <tr>\n",
              "      <th>7474</th>\n",
              "      <td>admission date discharge date date of birth se...</td>\n",
              "    </tr>\n",
              "    <tr>\n",
              "      <th>2014768</th>\n",
              "      <td>neonatology on exam pink active nondysmorphic ...</td>\n",
              "    </tr>\n",
              "  </tbody>\n",
              "</table>\n",
              "</div><br><label><b>dtype:</b> object</label>"
            ]
          },
          "metadata": {},
          "execution_count": 15
        }
      ]
    },
    {
      "cell_type": "code",
      "source": [
        "nltk.download('punkt')"
      ],
      "metadata": {
        "colab": {
          "base_uri": "https://localhost:8080/"
        },
        "id": "pPVnvfvb18sQ",
        "outputId": "84a4d603-1c9b-4cea-8f04-95cd576c19f0"
      },
      "execution_count": 16,
      "outputs": [
        {
          "output_type": "stream",
          "name": "stderr",
          "text": [
            "[nltk_data] Downloading package punkt to /root/nltk_data...\n",
            "[nltk_data]   Unzipping tokenizers/punkt.zip.\n"
          ]
        },
        {
          "output_type": "execute_result",
          "data": {
            "text/plain": [
              "True"
            ]
          },
          "metadata": {},
          "execution_count": 16
        }
      ]
    },
    {
      "cell_type": "code",
      "source": [
        "\n",
        "disease_dict = {\n",
        "    'pneumonia', 'fracture', 'tumor', 'arthritis', 'scoliosis',\n",
        "    'subarachnoid hemorrhage', 'diabetes', 'hypertension', 'asthma',\n",
        "    'heart disease', 'stroke', 'neoplasm', 'metastasis', 'lesion',\n",
        "    'cyst', 'growth', 'osteomyelitis', 'disc herniation',\n",
        "    'spondylolisthesis', 'degenerative disc disease', 'osteoporosis',\n",
        "    'aneurysm', 'thrombosis', 'embolism', 'spinal stenosis',\n",
        "    'spinal cord injury', 'sciatica', 'abscess', 'bacterial infection',\n",
        "    'viral infection','fractures'\n",
        "}\n",
        "\n",
        "symptom_dict = {\n",
        "    'pain', 'swelling', 'inflammation', 'discomfort', 'back pain',\n",
        "    'fever', 'nausea', 'fatigue', 'dizziness', 'headache', 'cough',\n",
        "    'chest pain', 'shortness of breath', 'radiating pain', 'sharp pain',\n",
        "    'dull pain', 'localized pain', 'weakness', 'numbness', 'tingling',\n",
        "    'edema', 'bruising', 'deformity', 'compression', 'subluxation',\n",
        "    'fracture line'\n",
        "}\n",
        "\n",
        "# Updated Treatment Dictionary\n",
        "treatment_dict = {\n",
        "    'surgery', 'radiation', 'medication', 'physical therapy', 'mri',\n",
        "    'antibiotics', 'analgesics', 'chemotherapy', 'immunotherapy',\n",
        "    'psychotherapy', 'catheterization', 'endoscopy', 'biopsy',\n",
        "    'surgical decompression', 'joint replacement', 'arthroscopy',\n",
        "    'spinal fusion', 'contrast enhancement', 'ct scan', 'x-ray',\n",
        "    'pet scan', 'ultrasound', 'pain management', 'anti-inflammatory drugs',\n",
        "    'anticoagulants', 'steroid injections', 'bracing', 'orthotics',\n",
        "    'rehabilitation therapy', 'pain relief techniques'\n",
        "}\n",
        "\n",
        "\n",
        "\n",
        "def custom_ner(text):\n",
        "    tokens = word_tokenize(text)\n",
        "    labels = []\n",
        "    for token in tokens:\n",
        "        if token.lower() in disease_dict:\n",
        "            labels.append((token, 'DISEASE'))\n",
        "        elif token.lower() in symptom_dict:\n",
        "            labels.append((token, 'SYMPTOM'))\n",
        "        elif token.lower() in treatment_dict:\n",
        "            labels.append((token, 'TREATMENT'))\n",
        "        else:\n",
        "            labels.append((token, 'O'))\n",
        "    return labels\n",
        "\n",
        "\n",
        "\n",
        "sample_data['custom_ner'] = sample_data['clean_text'].apply(custom_ner)\n"
      ],
      "metadata": {
        "id": "LAUYTSDGeexW"
      },
      "execution_count": 17,
      "outputs": []
    },
    {
      "cell_type": "code",
      "source": [
        "\n",
        "all_data_ner = sample_data.copy()\n",
        "\n",
        "imaging_data = sample_data[sample_data['clean_text'].str.contains('mri|x-ray|radiograph|ct scan', case=False)]\n"
      ],
      "metadata": {
        "id": "3_RGxAPhfqOq"
      },
      "execution_count": 18,
      "outputs": []
    },
    {
      "cell_type": "code",
      "source": [
        "\n",
        "for idx, row in imaging_data.iterrows():\n",
        "    print(f\"Annotated Text: {row['custom_ner']}\\n\")\n",
        "    print(\"-\" * 50)\n",
        "    if idx >= 5:\n",
        "        break\n"
      ],
      "metadata": {
        "colab": {
          "base_uri": "https://localhost:8080/"
        },
        "id": "VS3WQFBbf1hp",
        "outputId": "b1d78890-83b4-435f-dc3e-f979c5bb9343"
      },
      "execution_count": 20,
      "outputs": [
        {
          "output_type": "stream",
          "name": "stdout",
          "text": [
            "Annotated Text: [('admission', 'O'), ('date', 'O'), ('discharge', 'O'), ('date', 'O'), ('date', 'O'), ('of', 'O'), ('birth', 'O'), ('sex', 'O'), ('m', 'O'), ('service', 'O'), ('ent', 'O'), ('history', 'O'), ('of', 'O'), ('present', 'O'), ('illness', 'O'), ('the', 'O'), ('patient', 'O'), ('is', 'O'), ('a', 'O'), ('year', 'O'), ('old', 'O'), ('male', 'O'), ('with', 'O'), ('a', 'O'), ('history', 'O'), ('of', 'O'), ('an', 'O'), ('esophageal', 'O'), ('ring', 'O'), ('who', 'O'), ('presented', 'O'), ('to', 'O'), ('the', 'O'), ('emergency', 'O'), ('room', 'O'), ('with', 'O'), ('a', 'O'), ('three', 'O'), ('week', 'O'), ('history', 'O'), ('of', 'O'), ('pain', 'SYMPTOM'), ('on', 'O'), ('swallowing', 'O'), ('also', 'O'), ('with', 'O'), ('dysphagia', 'O'), ('for', 'O'), ('solids', 'O'), ('and', 'O'), ('liquids', 'O'), ('with', 'O'), ('increased', 'O'), ('hoarseness', 'O'), ('over', 'O'), ('the', 'O'), ('past', 'O'), ('three', 'O'), ('days', 'O'), ('the', 'O'), ('patient', 'O'), ('has', 'O'), ('also', 'O'), ('noticed', 'O'), ('increased', 'O'), ('secretions', 'O'), ('over', 'O'), ('the', 'O'), ('past', 'O'), ('three', 'O'), ('days', 'O'), ('and', 'O'), ('had', 'O'), ('an', 'O'), ('episode', 'O'), ('of', 'O'), ('choking', 'O'), ('on', 'O'), ('the', 'O'), ('evening', 'O'), ('prior', 'O'), ('to', 'O'), ('admission', 'O'), ('the', 'O'), ('patient', 'O'), ('denied', 'O'), ('headache', 'SYMPTOM'), ('or', 'O'), ('other', 'O'), ('symptoms', 'O'), ('the', 'O'), ('patient', 'O'), ('had', 'O'), ('a', 'O'), ('right', 'O'), ('lower', 'O'), ('molar', 'O'), ('extraction', 'O'), ('one', 'O'), ('week', 'O'), ('prior', 'O'), ('to', 'O'), ('admission', 'O'), ('past', 'O'), ('medical', 'O'), ('history', 'O'), ('noninsulin', 'O'), ('dependent', 'O'), ('diabetes', 'DISEASE'), ('mellitus', 'O'), ('with', 'O'), ('neuropathy', 'O'), ('chronic', 'O'), ('renal', 'O'), ('insufficiency', 'O'), ('coronary', 'O'), ('artery', 'O'), ('disease', 'O'), ('peripheral', 'O'), ('vascular', 'O'), ('disease', 'O'), ('hyperlipidemia', 'O'), ('bilateral', 'O'), ('cataracts', 'O'), ('esophageal', 'O'), ('ring', 'O'), ('hiatal', 'O'), ('hernia', 'O'), ('past', 'O'), ('surgical', 'O'), ('history', 'O'), ('left', 'O'), ('partial', 'O'), ('matricectomy', 'O'), ('in', 'O'), ('status', 'O'), ('post', 'O'), ('three', 'O'), ('vessel', 'O'), ('coronary', 'O'), ('artery', 'O'), ('bypass', 'O'), ('grafting', 'O'), ('in', 'O'), ('medications', 'O'), ('on', 'O'), ('admission', 'O'), ('glyburide', 'O'), ('mg', 'O'), ('pobid', 'O'), ('gemfibrozil', 'O'), ('mg', 'O'), ('pobid', 'O'), ('toprol', 'O'), ('mg', 'O'), ('poqd', 'O'), ('lasix', 'O'), ('mg', 'O'), ('poqd', 'O'), ('lipitor', 'O'), ('mg', 'O'), ('poqd', 'O'), ('plavix', 'O'), ('mg', 'O'), ('poqd', 'O'), ('aspirin', 'O'), ('mg', 'O'), ('poqd', 'O'), ('zantac', 'O'), ('mg', 'O'), ('poqd', 'O'), ('allergies', 'O'), ('codeine', 'O'), ('and', 'O'), ('morphine', 'O'), ('sulfate', 'O'), ('nausea', 'SYMPTOM'), ('and', 'O'), ('vomiting', 'O'), ('physical', 'O'), ('examination', 'O'), ('on', 'O'), ('initial', 'O'), ('physical', 'O'), ('examination', 'O'), ('the', 'O'), ('patient', 'O'), ('had', 'O'), ('a', 'O'), ('temperature', 'O'), ('of', 'O'), ('heart', 'O'), ('rate', 'O'), ('blood', 'O'), ('pressure', 'O'), ('respiratory', 'O'), ('rate', 'O'), ('and', 'O'), ('oxygen', 'O'), ('saturation', 'O'), ('in', 'O'), ('room', 'O'), ('air', 'O'), ('general', 'O'), ('alert', 'O'), ('and', 'O'), ('oriented', 'O'), ('times', 'O'), ('three', 'O'), ('in', 'O'), ('no', 'O'), ('acute', 'O'), ('distress', 'O'), ('head', 'O'), ('eyes', 'O'), ('ears', 'O'), ('nose', 'O'), ('and', 'O'), ('throat', 'O'), ('pupils', 'O'), ('equal', 'O'), ('round', 'O'), ('and', 'O'), ('reactive', 'O'), ('to', 'O'), ('light', 'O'), ('and', 'O'), ('accommodation', 'O'), ('extraocular', 'O'), ('movements', 'O'), ('intact', 'O'), ('tympanic', 'O'), ('membranes', 'O'), ('clear', 'O'), ('bilaterally', 'O'), ('nares', 'O'), ('patent', 'O'), ('pharynx', 'O'), ('with', 'O'), ('slight', 'O'), ('erythema', 'O'), ('and', 'O'), ('ecchymosis', 'O'), ('in', 'O'), ('right', 'O'), ('oropharynx', 'O'), ('neck', 'O'), ('supple', 'O'), ('with', 'O'), ('slight', 'O'), ('adenopathy', 'O'), ('full', 'O'), ('range', 'O'), ('of', 'O'), ('motion', 'O'), ('cardiovascular', 'O'), ('regular', 'O'), ('rate', 'O'), ('and', 'O'), ('rhythm', 'O'), ('lungs', 'O'), ('clear', 'O'), ('to', 'O'), ('auscultation', 'O'), ('bilaterally', 'O'), ('abdomen', 'O'), ('soft', 'O'), ('nontender', 'O'), ('nondistended', 'O'), ('positive', 'O'), ('bowel', 'O'), ('sounds', 'O'), ('extremities', 'O'), ('pulses', 'O'), ('no', 'O'), ('edema', 'SYMPTOM'), ('on', 'O'), ('last', 'O'), ('name', 'O'), ('un', 'O'), ('scope', 'O'), ('the', 'O'), ('patient', 'O'), ('was', 'O'), ('found', 'O'), ('to', 'O'), ('have', 'O'), ('swelling', 'SYMPTOM'), ('at', 'O'), ('the', 'O'), ('base', 'O'), ('of', 'O'), ('the', 'O'), ('tongue', 'O'), ('with', 'O'), ('marked', 'O'), ('edema', 'SYMPTOM'), ('of', 'O'), ('the', 'O'), ('false', 'O'), ('course', 'O'), ('and', 'O'), ('arytenoids', 'O'), ('about', 'O'), ('mm', 'O'), ('airway', 'O'), ('also', 'O'), ('with', 'O'), ('increased', 'O'), ('epiglottic', 'O'), ('size', 'O'), ('no', 'O'), ('ecchymosis', 'O'), ('laboratory', 'O'), ('data', 'O'), ('white', 'O'), ('blood', 'O'), ('cell', 'O'), ('count', 'O'), ('was', 'O'), ('with', 'O'), ('neutrophils', 'O'), ('hematocrit', 'O'), ('platelet', 'O'), ('count', 'O'), ('sodium', 'O'), ('potassium', 'O'), ('chloride', 'O'), ('bicarbonate', 'O'), ('bun', 'O'), ('and', 'O'), ('creatinine', 'O'), ('tests', 'O'), ('ct', 'O'), ('scan', 'O'), ('of', 'O'), ('the', 'O'), ('neck', 'O'), ('showed', 'O'), ('supraglottitis', 'O'), ('with', 'O'), ('mild', 'O'), ('to', 'O'), ('moderate', 'O'), ('narrowing', 'O'), ('of', 'O'), ('the', 'O'), ('supraglottic', 'O'), ('airway', 'O'), ('associated', 'O'), ('jugular', 'O'), ('lymphadenopathy', 'O'), ('with', 'O'), ('prominent', 'O'), ('lymphoid', 'O'), ('tissue', 'O'), ('at', 'O'), ('the', 'O'), ('lung', 'O'), ('bases', 'O'), ('bilaterally', 'O'), ('chest', 'O'), ('xray', 'O'), ('showed', 'O'), ('no', 'O'), ('acute', 'O'), ('pulmonary', 'O'), ('edema', 'SYMPTOM'), ('no', 'O'), ('acute', 'O'), ('cardiopulmonary', 'O'), ('process', 'O'), ('hospital', 'O'), ('course', 'O'), ('the', 'O'), ('patient', 'O'), ('was', 'O'), ('admitted', 'O'), ('with', 'O'), ('a', 'O'), ('diagnosis', 'O'), ('of', 'O'), ('supraglottitis', 'O'), ('he', 'O'), ('was', 'O'), ('given', 'O'), ('a', 'O'), ('dose', 'O'), ('of', 'O'), ('mg', 'O'), ('of', 'O'), ('decadron', 'O'), ('in', 'O'), ('the', 'O'), ('emergency', 'O'), ('room', 'O'), ('and', 'O'), ('another', 'O'), ('mg', 'O'), ('upon', 'O'), ('arrival', 'O'), ('to', 'O'), ('the', 'O'), ('floor', 'O'), ('he', 'O'), ('was', 'O'), ('also', 'O'), ('started', 'O'), ('on', 'O'), ('clindamycin', 'O'), ('and', 'O'), ('levofloxacin', 'O'), ('and', 'O'), ('given', 'O'), ('nothing', 'O'), ('by', 'O'), ('mouth', 'O'), ('he', 'O'), ('was', 'O'), ('admitted', 'O'), ('to', 'O'), ('the', 'O'), ('intensive', 'O'), ('care', 'O'), ('unit', 'O'), ('for', 'O'), ('close', 'O'), ('observation', 'O'), ('and', 'O'), ('continuous', 'O'), ('pulse', 'O'), ('oximetry', 'O'), ('monitoring', 'O'), ('the', 'O'), ('patient', 'O'), ('symptomatically', 'O'), ('improved', 'O'), ('on', 'O'), ('repeat', 'O'), ('scope', 'O'), ('the', 'O'), ('supraglottic', 'O'), ('swelling', 'SYMPTOM'), ('was', 'O'), ('decreasing', 'O'), ('and', 'O'), ('he', 'O'), ('was', 'O'), ('felt', 'O'), ('stable', 'O'), ('to', 'O'), ('take', 'O'), ('oral', 'O'), ('intake', 'O'), ('on', 'O'), ('hospital', 'O'), ('day', 'O'), ('number', 'O'), ('two', 'O'), ('which', 'O'), ('he', 'O'), ('tolerated', 'O'), ('at', 'O'), ('the', 'O'), ('time', 'O'), ('of', 'O'), ('discharge', 'O'), ('the', 'O'), ('patient', 'O'), ('is', 'O'), ('stable', 'O'), ('with', 'O'), ('great', 'O'), ('improvement', 'O'), ('in', 'O'), ('his', 'O'), ('supraglottic', 'O'), ('swelling', 'SYMPTOM'), ('he', 'O'), ('is', 'O'), ('tolerating', 'O'), ('orals', 'O'), ('and', 'O'), ('able', 'O'), ('to', 'O'), ('take', 'O'), ('a', 'O'), ('regular', 'O'), ('diet', 'O'), ('he', 'O'), ('will', 'O'), ('be', 'O'), ('discharged', 'O'), ('home', 'O'), ('to', 'O'), ('complete', 'O'), ('a', 'O'), ('days', 'O'), ('course', 'O'), ('of', 'O'), ('clindamycin', 'O'), ('and', 'O'), ('is', 'O'), ('to', 'O'), ('follow', 'O'), ('up', 'O'), ('with', 'O'), ('dr', 'O'), ('last', 'O'), ('name', 'O'), ('stitle', 'O'), ('in', 'O'), ('two', 'O'), ('to', 'O'), ('three', 'O'), ('days', 'O'), ('condition', 'O'), ('on', 'O'), ('discharge', 'O'), ('stable', 'O'), ('discharge', 'O'), ('status', 'O'), ('the', 'O'), ('patient', 'O'), ('was', 'O'), ('discharged', 'O'), ('to', 'O'), ('home', 'O'), ('final', 'O'), ('diagnosis', 'O'), ('supraglottitis', 'O'), ('discharge', 'O'), ('medications', 'O'), ('clindamycin', 'O'), ('mg', 'O'), ('poqh', 'O'), ('percocet', 'O'), ('one', 'O'), ('to', 'O'), ('two', 'O'), ('tablets', 'O'), ('poqhprn', 'O'), ('pain', 'SYMPTOM'), ('tylenol', 'O'), ('elixir', 'O'), ('mg', 'O'), ('poqhprn', 'O'), ('pain', 'SYMPTOM'), ('patient', 'O'), ('to', 'O'), ('resume', 'O'), ('additional', 'O'), ('home', 'O'), ('medications', 'O'), ('first', 'O'), ('name', 'O'), ('name', 'O'), ('pattern', 'O'), ('last', 'O'), ('name', 'O'), ('namepattern', 'O'), ('md', 'O'), ('md', 'O'), ('number', 'O'), ('dictated', 'O'), ('bylast', 'O'), ('name', 'O'), ('namepattern', 'O'), ('medquist', 'O'), ('d', 'O'), ('t', 'O'), ('job', 'O'), ('job', 'O'), ('number', 'O')]\n",
            "\n",
            "--------------------------------------------------\n"
          ]
        }
      ]
    },
    {
      "cell_type": "code",
      "source": [
        "print(imaging_data['custom_ner'])"
      ],
      "metadata": {
        "colab": {
          "base_uri": "https://localhost:8080/"
        },
        "id": "fT93iqzq5-Tl",
        "outputId": "96affb73-eb6d-4ad5-bfdb-af75583916d2"
      },
      "execution_count": 23,
      "outputs": [
        {
          "output_type": "stream",
          "name": "stdout",
          "text": [
            "7474       [(admission, O), (date, O), (discharge, O), (d...\n",
            "1135048    [(pm, O), (chest, O), (portable, O), (ap, O), ...\n",
            "980420     [(pm, O), (chest, O), (port, O), (line, O), (p...\n",
            "54860      [(admission, O), (date, O), (discharge, O), (d...\n",
            "885167     [(am, O), (ct, O), (head, O), (wo, O), (contra...\n",
            "                                 ...                        \n",
            "27243      [(admission, O), (date, O), (discharge, O), (d...\n",
            "1044091    [(am, O), (abdomen, O), (supine, O), (only, O)...\n",
            "788458     [(pm, O), (chest, O), (portable, O), (ap, O), ...\n",
            "1090251    [(pm, O), (chest, O), (pa, O), (lat, O), (clip...\n",
            "955688     [(pm, O), (chest, O), (port, O), (line, O), (p...\n",
            "Name: custom_ner, Length: 609, dtype: object\n"
          ]
        }
      ]
    },
    {
      "cell_type": "code",
      "source": [],
      "metadata": {
        "id": "3z-i9R2a5rSJ"
      },
      "execution_count": 23,
      "outputs": []
    },
    {
      "cell_type": "code",
      "source": [
        "import pandas as pd\n",
        "from sklearn.model_selection import train_test_split\n",
        "from transformers import BertTokenizer, BertForTokenClassification, Trainer, TrainingArguments\n",
        "from transformers import DataCollatorForTokenClassification\n",
        "from datasets import Dataset, DatasetDict"
      ],
      "metadata": {
        "id": "2UgzRidxf8Gl"
      },
      "execution_count": 24,
      "outputs": []
    },
    {
      "cell_type": "code",
      "source": [
        "\n",
        "words = []\n",
        "labels = []\n",
        "for row in imaging_data['custom_ner']:\n",
        "  for word, label in row:\n",
        "    words.append(word)\n",
        "    labels.append(label)\n",
        "\n",
        "df = pd.DataFrame({\n",
        "    'Word': words,\n",
        "    'Label': labels\n",
        "})\n",
        "\n",
        "\n",
        "df.to_csv('annotations.csv', index=False)"
      ],
      "metadata": {
        "id": "J85T6zfY4gdF"
      },
      "execution_count": 25,
      "outputs": []
    },
    {
      "cell_type": "code",
      "source": [
        "import pandas as pd\n",
        "\n",
        "\n",
        "df = pd.read_csv('annotations.csv')\n",
        "\n",
        "print(df.head())\n",
        "print(df.count())\n"
      ],
      "metadata": {
        "colab": {
          "base_uri": "https://localhost:8080/"
        },
        "id": "QHLyY-6fpaEk",
        "outputId": "9bc89717-7276-4c9e-fb0b-f4df1d471225"
      },
      "execution_count": 3,
      "outputs": [
        {
          "output_type": "stream",
          "name": "stdout",
          "text": [
            "        Word Label\n",
            "0  admission     O\n",
            "1       date     O\n",
            "2  discharge     O\n",
            "3       date     O\n",
            "4       date     O\n",
            "Word     249915\n",
            "Label    249915\n",
            "dtype: int64\n"
          ]
        }
      ]
    },
    {
      "cell_type": "code",
      "source": [
        "from transformers import BertTokenizer, BertForTokenClassification, Trainer, TrainingArguments, DataCollatorForTokenClassification\n",
        "from datasets import Dataset, DatasetDict\n",
        "from sklearn.model_selection import train_test_split\n",
        "\n",
        "\n",
        "labels = df['Label'].unique()\n",
        "label2id = {label: id for id, label in enumerate(labels)}\n",
        "id2label = {id: label for label, id in label2id.items()}\n",
        "\n",
        "\n",
        "tokenizer = BertTokenizer.from_pretrained(\"dmis-lab/biobert-base-cased-v1.1\")\n",
        "\n",
        "def encode_examples(examples):\n",
        "\n",
        "    encoded = tokenizer(examples[\"Word\"], truncation=True, padding=\"max_length\", max_length=128)\n",
        "\n",
        "    encoded_labels = []\n",
        "    for label in examples[\"Label\"]:\n",
        "        if isinstance(label, list):\n",
        "            encoded_label = [label2id[l] for l in label]\n",
        "        else:\n",
        "            encoded_label = [label2id[label]]\n",
        "        encoded_labels.append(encoded_label)\n",
        "\n",
        "    encoded[\"labels\"] = encoded_labels\n",
        "    return encoded\n",
        "\n",
        "\n",
        "dataset = Dataset.from_pandas(df)\n",
        "\n",
        "dataset = dataset.map(encode_examples, batched=True)\n",
        "\n",
        "train_dataset, test_dataset = train_test_split(dataset, test_size=0.2, random_state=42)\n",
        "\n",
        "\n",
        "dataset_dict = DatasetDict({\n",
        "    \"train\": train_dataset,\n",
        "    \"test\": test_dataset\n",
        "})\n",
        "\n",
        "\n",
        "data_collator = DataCollatorForTokenClassification(tokenizer=tokenizer)\n"
      ],
      "metadata": {
        "colab": {
          "base_uri": "https://localhost:8080/",
          "height": 237,
          "referenced_widgets": [
            "5b3d6090b93d4657a97fe9c840a8fe59",
            "bbc693d19d0b4d539204bc83115d841d",
            "52b6a7749dff4a63b07b41a22da685aa",
            "144dc4866ab3429fb377535242a40e95",
            "03ee6b1f68324b6bb6a25d767b5d1ca3",
            "06c332108ce546e393121a09fc41aaa7",
            "103b98e22c3142a7bded014a869e65e1",
            "72c2a8cb452e4b838c806765b35538af",
            "68a84f01c4cd45b484d4840d7597c1c8",
            "415d51fc5cfa49a5bbf13ef5f0083de7",
            "a0b6459cd7b84170a0ebd3e47cf2663c",
            "16a9b56919dc441a98b675f7ab0ba616",
            "4dd51dfe21d84672be3dce569127cf21",
            "b32f61cff854421c864a3e6529a7edbf",
            "ee2a71b3e36d4053ba26d85e94a72b38",
            "46c0f42e2af54e0eab8ffcb60c9d98e8",
            "5ff1c45a78164b5fbaaae89a5601c413",
            "082d730a7d524ff0891d74f9a7690590",
            "958116c5759c4acda473b8e57fe1d928",
            "e0cf1d6916474a0da17e5fd8fac13daa",
            "aee97e4060164991a6f278483aac9dd2",
            "a3c1ac1e4a594799b5e66080dceb8981",
            "9ea1830c225c472e90f2cbc1a23a9160",
            "99abaf1d20b44064a30c728ad4c09a56",
            "1e89d0e900ad4f1ba72427f90368493e",
            "5213fbff83bc4561b4bd10cd2d25a67f",
            "24c3219a63db438f9ab930fef8464e3c",
            "caff530588924a90ad0ecc10bd4fe2f8",
            "f7fecc1f00c94a0995bc1960f6a1fb75",
            "24075cd5b99d48909fdca59fe148cad3",
            "e2f2cfc285c64aa2b28b1d8049abcf80",
            "9e1c97b68c0d411eba81fe18ec233a67",
            "4e296e375b4e45758e777217ada51386"
          ]
        },
        "id": "xh1Vl09pGcKV",
        "outputId": "10c83402-c669-474f-9a94-d7765a5a32e0"
      },
      "execution_count": 4,
      "outputs": [
        {
          "output_type": "stream",
          "name": "stderr",
          "text": [
            "/usr/local/lib/python3.10/dist-packages/huggingface_hub/utils/_token.py:89: UserWarning: \n",
            "The secret `HF_TOKEN` does not exist in your Colab secrets.\n",
            "To authenticate with the Hugging Face Hub, create a token in your settings tab (https://huggingface.co/settings/tokens), set it as secret in your Google Colab and restart your session.\n",
            "You will be able to reuse this secret in all of your notebooks.\n",
            "Please note that authentication is recommended but still optional to access public models or datasets.\n",
            "  warnings.warn(\n"
          ]
        },
        {
          "output_type": "display_data",
          "data": {
            "text/plain": [
              "vocab.txt:   0%|          | 0.00/213k [00:00<?, ?B/s]"
            ],
            "application/vnd.jupyter.widget-view+json": {
              "version_major": 2,
              "version_minor": 0,
              "model_id": "5b3d6090b93d4657a97fe9c840a8fe59"
            }
          },
          "metadata": {}
        },
        {
          "output_type": "display_data",
          "data": {
            "text/plain": [
              "config.json:   0%|          | 0.00/313 [00:00<?, ?B/s]"
            ],
            "application/vnd.jupyter.widget-view+json": {
              "version_major": 2,
              "version_minor": 0,
              "model_id": "16a9b56919dc441a98b675f7ab0ba616"
            }
          },
          "metadata": {}
        },
        {
          "output_type": "display_data",
          "data": {
            "text/plain": [
              "Map:   0%|          | 0/249915 [00:00<?, ? examples/s]"
            ],
            "application/vnd.jupyter.widget-view+json": {
              "version_major": 2,
              "version_minor": 0,
              "model_id": "9ea1830c225c472e90f2cbc1a23a9160"
            }
          },
          "metadata": {}
        }
      ]
    },
    {
      "cell_type": "code",
      "source": [
        "\n",
        "model = BertForTokenClassification.from_pretrained(\n",
        "    \"dmis-lab/biobert-base-cased-v1.1\",\n",
        "    num_labels=len(labels),\n",
        "    id2label=id2label,\n",
        "    label2id=label2id\n",
        ")\n",
        "\n",
        "training_args = TrainingArguments(\n",
        "    output_dir=\"./results\",\n",
        "    evaluation_strategy=\"epoch\",\n",
        "    learning_rate=2e-5,\n",
        "    per_device_train_batch_size=16,\n",
        "    per_device_eval_batch_size=64,\n",
        "    num_train_epochs=8,\n",
        "    weight_decay=0.01,\n",
        "    gradient_checkpointing=False,  # Ensure gradient checkpointing is off if not needed\n",
        ")\n",
        "\n",
        "# Create the Trainer instance\n",
        "trainer = Trainer(\n",
        "    model=model,\n",
        "    args=training_args,\n",
        "    train_dataset=dataset_dict[\"train\"],\n",
        "    eval_dataset=dataset_dict[\"test\"],\n",
        "    data_collator=data_collator,\n",
        ")\n",
        "\n",
        "trainer.train()\n"
      ],
      "metadata": {
        "colab": {
          "base_uri": "https://localhost:8080/",
          "height": 321,
          "referenced_widgets": [
            "39014efee12542ba9f1ca6dc38ce6480",
            "434ffec89bac4b0ab0edd2e757b2eeca",
            "043fd91cb25d491c9b47c5fda2f61d9c",
            "3711db45e12d440788bd64a58c1e9111",
            "52d13810904649d2b12667a7a408fa40",
            "50af4dc0e0d340b3bdd31baf8ee4dc51",
            "6a88279d3c7846fda436fc908c67e437",
            "7e9da2f6848c4882b77baf25eef7380e",
            "af53fd82c95e408e91773a6740c5684a",
            "e46c9ac870e24242b309a5c7d92a513a",
            "ffc8edebcba34d61abb14c2f2f30ad67"
          ]
        },
        "id": "bxpo4hAefQqg",
        "outputId": "6fa2c6c8-1f83-4cb0-b3fc-8169b9195ac7"
      },
      "execution_count": null,
      "outputs": [
        {
          "data": {
            "application/vnd.jupyter.widget-view+json": {
              "model_id": "39014efee12542ba9f1ca6dc38ce6480",
              "version_major": 2,
              "version_minor": 0
            },
            "text/plain": [
              "pytorch_model.bin:   0%|          | 0.00/436M [00:00<?, ?B/s]"
            ]
          },
          "metadata": {},
          "output_type": "display_data"
        },
        {
          "metadata": {
            "tags": null
          },
          "name": "stderr",
          "output_type": "stream",
          "text": [
            "Some weights of BertForTokenClassification were not initialized from the model checkpoint at dmis-lab/biobert-base-cased-v1.1 and are newly initialized: ['classifier.bias', 'classifier.weight']\n",
            "You should probably TRAIN this model on a down-stream task to be able to use it for predictions and inference.\n",
            "/usr/local/lib/python3.10/dist-packages/transformers/training_args.py:1494: FutureWarning: `evaluation_strategy` is deprecated and will be removed in version 4.46 of 🤗 Transformers. Use `eval_strategy` instead\n",
            "  warnings.warn(\n"
          ]
        },
        {
          "data": {
            "text/html": [
              "\n",
              "    <div>\n",
              "      \n",
              "      <progress value='11593' max='99968' style='width:300px; height:20px; vertical-align: middle;'></progress>\n",
              "      [11593/99968 1:18:09 < 9:55:55, 2.47 it/s, Epoch 0.93/8]\n",
              "    </div>\n",
              "    <table border=\"1\" class=\"dataframe\">\n",
              "  <thead>\n",
              " <tr style=\"text-align: left;\">\n",
              "      <th>Epoch</th>\n",
              "      <th>Training Loss</th>\n",
              "      <th>Validation Loss</th>\n",
              "    </tr>\n",
              "  </thead>\n",
              "  <tbody>\n",
              "  </tbody>\n",
              "</table><p>"
            ],
            "text/plain": [
              "<IPython.core.display.HTML object>"
            ]
          },
          "metadata": {},
          "output_type": "display_data"
        },
        {
          "output_type": "display_data",
          "data": {
            "text/plain": [
              "<IPython.core.display.HTML object>"
            ],
            "text/html": [
              "\n",
              "    <div>\n",
              "      \n",
              "      <progress value='17001' max='99968' style='width:300px; height:20px; vertical-align: middle;'></progress>\n",
              "      [17001/99968 2:00:55 < 9:50:10, 2.34 it/s, Epoch 1.36/8]\n",
              "    </div>\n",
              "    <table border=\"1\" class=\"dataframe\">\n",
              "  <thead>\n",
              " <tr style=\"text-align: left;\">\n",
              "      <th>Epoch</th>\n",
              "      <th>Training Loss</th>\n",
              "      <th>Validation Loss</th>\n",
              "    </tr>\n",
              "  </thead>\n",
              "  <tbody>\n",
              "    <tr>\n",
              "      <td>1</td>\n",
              "      <td>0.002400</td>\n",
              "      <td>0.000858</td>\n",
              "    </tr>\n",
              "  </tbody>\n",
              "</table><p>"
            ]
          },
          "metadata": {}
        }
      ]
    },
    {
      "cell_type": "code",
      "source": [
        "\n",
        "df = df.reset_index(drop=True)\n",
        "\n",
        "\n",
        "dataset = Dataset.from_pandas(df)\n",
        "\n",
        "# Continue with encoding and splitting\n",
        "dataset = dataset.map(encode_examples, batched=True)\n",
        "train_dataset, test_dataset = train_test_split(dataset, test_size=0.2, random_state=42)\n",
        "\n",
        "\n",
        "dataset_dict = DatasetDict({\n",
        "    \"train\": Dataset.from_dict(train_dataset),\n",
        "    \"test\": Dataset.from_dict(test_dataset)\n",
        "})\n"
      ],
      "metadata": {
        "colab": {
          "base_uri": "https://localhost:8080/",
          "height": 49,
          "referenced_widgets": [
            "1487a62b07ce4e40a2e18d1161297013",
            "7158c3996339400fb30c6d6f2be8af78",
            "a57c8b9b09c147d0a179e553eef3198f",
            "efe2b93488414dfb9c12390eeb76f6b5",
            "e52f4fa07ec44d688d2193cee16689e9",
            "a265c5265f544e01873aec836477e13a",
            "e7d869a2cec94ff4bc3cf3ef0e0819bf",
            "2e4772ee9af34a15a090b1ea2efbcad8",
            "a23b70a0d6184b8bad384fa44fa2f06b",
            "5a1f4f54cc8d4ad2a4b114ad7c92cf3c",
            "e433dbae4a7548a4a254ef61ad25fffd"
          ]
        },
        "id": "tWJ44t8_KhWx",
        "outputId": "1eaf5d5e-3e9f-4715-b514-9f75c5f277cc"
      },
      "execution_count": 5,
      "outputs": [
        {
          "output_type": "display_data",
          "data": {
            "text/plain": [
              "Map:   0%|          | 0/249915 [00:00<?, ? examples/s]"
            ],
            "application/vnd.jupyter.widget-view+json": {
              "version_major": 2,
              "version_minor": 0,
              "model_id": "1487a62b07ce4e40a2e18d1161297013"
            }
          },
          "metadata": {}
        }
      ]
    },
    {
      "cell_type": "code",
      "source": [
        "from transformers import pipeline\n",
        "\n",
        "\n",
        "generator = pipeline('text-generation', model='gpt2', truncation=True)\n",
        "\n",
        "def analyze_medical_report(report):\n",
        "    prompt = f\"\"\"\n",
        "    Please extract the following details from the medical report:\n",
        "    - Disease(s)\n",
        "    - Medication(s)\n",
        "    - Symptom(s)\n",
        "    - Treatment(s)\n",
        "\n",
        "    Report: \"{report}\"\n",
        "\n",
        "    Format the response as:\n",
        "    - Diseases: ...\n",
        "    - Medications: ...\n",
        "    - Symptoms: ...\n",
        "    - Treatments: ...\n",
        "    \"\"\"\n",
        "\n",
        "    result = generator(prompt, max_new_tokens=100, num_return_sequences=1)[0]['generated_text']\n",
        "\n",
        "    start_idx = result.find(\"- Diseases:\")\n",
        "    end_idx = result.find(\"Case\", start_idx)\n",
        "\n",
        "    if start_idx != -1 and end_idx != -1:\n",
        "        result = result[start_idx:end_idx].strip()\n",
        "    else:\n",
        "        result = result[start_idx:].strip() if start_idx != -1 else \"Unable to extract details.\"\n",
        "\n",
        "    return result\n",
        "\n",
        "\n",
        "medical_report = \"\"\"\n",
        "The patient has been experiencing frequent urination, fatigue, and increased thirst.\n",
        "They have been diagnosed with Type 2 diabetes and are currently on Metformin.\n",
        "The doctor has recommended lifestyle changes, including diet and exercise, as part of the treatment plan.\n",
        "\"\"\"\n",
        "\n",
        "output = analyze_medical_report(medical_report)\n",
        "print(output)\n"
      ],
      "metadata": {
        "colab": {
          "base_uri": "https://localhost:8080/"
        },
        "id": "8Tv10DJ_tYPO",
        "outputId": "b5dd0b09-181a-49a1-ead5-72525a8f1eef"
      },
      "execution_count": 36,
      "outputs": [
        {
          "output_type": "stream",
          "name": "stderr",
          "text": [
            "Setting `pad_token_id` to `eos_token_id`:50256 for open-end generation.\n"
          ]
        },
        {
          "output_type": "stream",
          "name": "stdout",
          "text": [
            "- Diseases: ...\n",
            "    - Medications: ...\n",
            "    - Symptoms: ...\n",
            "    - Treatments: ...\n",
            "     This report also includes the following information:     - Symptoms:\n",
            "\"We can't tell if symptoms are normal or what is causing them.\"\n",
            "\"...\n",
            "\"... The patient's current history may include:\n",
            "     - Heartburn...\n",
            "      - Stress on self...\n",
            "     - Anxiety or paranoia...\n",
            "We will update this document as we learn more.\"\n",
            " - The following Patient Report:     - The following Patient Review Report\n"
          ]
        }
      ]
    },
    {
      "cell_type": "markdown",
      "source": [],
      "metadata": {
        "id": "rqqhK-KVt_F0"
      }
    }
  ],
  "metadata": {
    "colab": {
      "provenance": [],
      "gpuType": "T4"
    },
    "kernelspec": {
      "display_name": "Python 3",
      "name": "python3"
    },
    "language_info": {
      "name": "python"
    },
    "widgets": {
      "application/vnd.jupyter.widget-state+json": {
        "5b3d6090b93d4657a97fe9c840a8fe59": {
          "model_module": "@jupyter-widgets/controls",
          "model_name": "HBoxModel",
          "model_module_version": "1.5.0",
          "state": {
            "_dom_classes": [],
            "_model_module": "@jupyter-widgets/controls",
            "_model_module_version": "1.5.0",
            "_model_name": "HBoxModel",
            "_view_count": null,
            "_view_module": "@jupyter-widgets/controls",
            "_view_module_version": "1.5.0",
            "_view_name": "HBoxView",
            "box_style": "",
            "children": [
              "IPY_MODEL_bbc693d19d0b4d539204bc83115d841d",
              "IPY_MODEL_52b6a7749dff4a63b07b41a22da685aa",
              "IPY_MODEL_144dc4866ab3429fb377535242a40e95"
            ],
            "layout": "IPY_MODEL_03ee6b1f68324b6bb6a25d767b5d1ca3"
          }
        },
        "bbc693d19d0b4d539204bc83115d841d": {
          "model_module": "@jupyter-widgets/controls",
          "model_name": "HTMLModel",
          "model_module_version": "1.5.0",
          "state": {
            "_dom_classes": [],
            "_model_module": "@jupyter-widgets/controls",
            "_model_module_version": "1.5.0",
            "_model_name": "HTMLModel",
            "_view_count": null,
            "_view_module": "@jupyter-widgets/controls",
            "_view_module_version": "1.5.0",
            "_view_name": "HTMLView",
            "description": "",
            "description_tooltip": null,
            "layout": "IPY_MODEL_06c332108ce546e393121a09fc41aaa7",
            "placeholder": "​",
            "style": "IPY_MODEL_103b98e22c3142a7bded014a869e65e1",
            "value": "vocab.txt: 100%"
          }
        },
        "52b6a7749dff4a63b07b41a22da685aa": {
          "model_module": "@jupyter-widgets/controls",
          "model_name": "FloatProgressModel",
          "model_module_version": "1.5.0",
          "state": {
            "_dom_classes": [],
            "_model_module": "@jupyter-widgets/controls",
            "_model_module_version": "1.5.0",
            "_model_name": "FloatProgressModel",
            "_view_count": null,
            "_view_module": "@jupyter-widgets/controls",
            "_view_module_version": "1.5.0",
            "_view_name": "ProgressView",
            "bar_style": "success",
            "description": "",
            "description_tooltip": null,
            "layout": "IPY_MODEL_72c2a8cb452e4b838c806765b35538af",
            "max": 213450,
            "min": 0,
            "orientation": "horizontal",
            "style": "IPY_MODEL_68a84f01c4cd45b484d4840d7597c1c8",
            "value": 213450
          }
        },
        "144dc4866ab3429fb377535242a40e95": {
          "model_module": "@jupyter-widgets/controls",
          "model_name": "HTMLModel",
          "model_module_version": "1.5.0",
          "state": {
            "_dom_classes": [],
            "_model_module": "@jupyter-widgets/controls",
            "_model_module_version": "1.5.0",
            "_model_name": "HTMLModel",
            "_view_count": null,
            "_view_module": "@jupyter-widgets/controls",
            "_view_module_version": "1.5.0",
            "_view_name": "HTMLView",
            "description": "",
            "description_tooltip": null,
            "layout": "IPY_MODEL_415d51fc5cfa49a5bbf13ef5f0083de7",
            "placeholder": "​",
            "style": "IPY_MODEL_a0b6459cd7b84170a0ebd3e47cf2663c",
            "value": " 213k/213k [00:00&lt;00:00, 2.77MB/s]"
          }
        },
        "03ee6b1f68324b6bb6a25d767b5d1ca3": {
          "model_module": "@jupyter-widgets/base",
          "model_name": "LayoutModel",
          "model_module_version": "1.2.0",
          "state": {
            "_model_module": "@jupyter-widgets/base",
            "_model_module_version": "1.2.0",
            "_model_name": "LayoutModel",
            "_view_count": null,
            "_view_module": "@jupyter-widgets/base",
            "_view_module_version": "1.2.0",
            "_view_name": "LayoutView",
            "align_content": null,
            "align_items": null,
            "align_self": null,
            "border": null,
            "bottom": null,
            "display": null,
            "flex": null,
            "flex_flow": null,
            "grid_area": null,
            "grid_auto_columns": null,
            "grid_auto_flow": null,
            "grid_auto_rows": null,
            "grid_column": null,
            "grid_gap": null,
            "grid_row": null,
            "grid_template_areas": null,
            "grid_template_columns": null,
            "grid_template_rows": null,
            "height": null,
            "justify_content": null,
            "justify_items": null,
            "left": null,
            "margin": null,
            "max_height": null,
            "max_width": null,
            "min_height": null,
            "min_width": null,
            "object_fit": null,
            "object_position": null,
            "order": null,
            "overflow": null,
            "overflow_x": null,
            "overflow_y": null,
            "padding": null,
            "right": null,
            "top": null,
            "visibility": null,
            "width": null
          }
        },
        "06c332108ce546e393121a09fc41aaa7": {
          "model_module": "@jupyter-widgets/base",
          "model_name": "LayoutModel",
          "model_module_version": "1.2.0",
          "state": {
            "_model_module": "@jupyter-widgets/base",
            "_model_module_version": "1.2.0",
            "_model_name": "LayoutModel",
            "_view_count": null,
            "_view_module": "@jupyter-widgets/base",
            "_view_module_version": "1.2.0",
            "_view_name": "LayoutView",
            "align_content": null,
            "align_items": null,
            "align_self": null,
            "border": null,
            "bottom": null,
            "display": null,
            "flex": null,
            "flex_flow": null,
            "grid_area": null,
            "grid_auto_columns": null,
            "grid_auto_flow": null,
            "grid_auto_rows": null,
            "grid_column": null,
            "grid_gap": null,
            "grid_row": null,
            "grid_template_areas": null,
            "grid_template_columns": null,
            "grid_template_rows": null,
            "height": null,
            "justify_content": null,
            "justify_items": null,
            "left": null,
            "margin": null,
            "max_height": null,
            "max_width": null,
            "min_height": null,
            "min_width": null,
            "object_fit": null,
            "object_position": null,
            "order": null,
            "overflow": null,
            "overflow_x": null,
            "overflow_y": null,
            "padding": null,
            "right": null,
            "top": null,
            "visibility": null,
            "width": null
          }
        },
        "103b98e22c3142a7bded014a869e65e1": {
          "model_module": "@jupyter-widgets/controls",
          "model_name": "DescriptionStyleModel",
          "model_module_version": "1.5.0",
          "state": {
            "_model_module": "@jupyter-widgets/controls",
            "_model_module_version": "1.5.0",
            "_model_name": "DescriptionStyleModel",
            "_view_count": null,
            "_view_module": "@jupyter-widgets/base",
            "_view_module_version": "1.2.0",
            "_view_name": "StyleView",
            "description_width": ""
          }
        },
        "72c2a8cb452e4b838c806765b35538af": {
          "model_module": "@jupyter-widgets/base",
          "model_name": "LayoutModel",
          "model_module_version": "1.2.0",
          "state": {
            "_model_module": "@jupyter-widgets/base",
            "_model_module_version": "1.2.0",
            "_model_name": "LayoutModel",
            "_view_count": null,
            "_view_module": "@jupyter-widgets/base",
            "_view_module_version": "1.2.0",
            "_view_name": "LayoutView",
            "align_content": null,
            "align_items": null,
            "align_self": null,
            "border": null,
            "bottom": null,
            "display": null,
            "flex": null,
            "flex_flow": null,
            "grid_area": null,
            "grid_auto_columns": null,
            "grid_auto_flow": null,
            "grid_auto_rows": null,
            "grid_column": null,
            "grid_gap": null,
            "grid_row": null,
            "grid_template_areas": null,
            "grid_template_columns": null,
            "grid_template_rows": null,
            "height": null,
            "justify_content": null,
            "justify_items": null,
            "left": null,
            "margin": null,
            "max_height": null,
            "max_width": null,
            "min_height": null,
            "min_width": null,
            "object_fit": null,
            "object_position": null,
            "order": null,
            "overflow": null,
            "overflow_x": null,
            "overflow_y": null,
            "padding": null,
            "right": null,
            "top": null,
            "visibility": null,
            "width": null
          }
        },
        "68a84f01c4cd45b484d4840d7597c1c8": {
          "model_module": "@jupyter-widgets/controls",
          "model_name": "ProgressStyleModel",
          "model_module_version": "1.5.0",
          "state": {
            "_model_module": "@jupyter-widgets/controls",
            "_model_module_version": "1.5.0",
            "_model_name": "ProgressStyleModel",
            "_view_count": null,
            "_view_module": "@jupyter-widgets/base",
            "_view_module_version": "1.2.0",
            "_view_name": "StyleView",
            "bar_color": null,
            "description_width": ""
          }
        },
        "415d51fc5cfa49a5bbf13ef5f0083de7": {
          "model_module": "@jupyter-widgets/base",
          "model_name": "LayoutModel",
          "model_module_version": "1.2.0",
          "state": {
            "_model_module": "@jupyter-widgets/base",
            "_model_module_version": "1.2.0",
            "_model_name": "LayoutModel",
            "_view_count": null,
            "_view_module": "@jupyter-widgets/base",
            "_view_module_version": "1.2.0",
            "_view_name": "LayoutView",
            "align_content": null,
            "align_items": null,
            "align_self": null,
            "border": null,
            "bottom": null,
            "display": null,
            "flex": null,
            "flex_flow": null,
            "grid_area": null,
            "grid_auto_columns": null,
            "grid_auto_flow": null,
            "grid_auto_rows": null,
            "grid_column": null,
            "grid_gap": null,
            "grid_row": null,
            "grid_template_areas": null,
            "grid_template_columns": null,
            "grid_template_rows": null,
            "height": null,
            "justify_content": null,
            "justify_items": null,
            "left": null,
            "margin": null,
            "max_height": null,
            "max_width": null,
            "min_height": null,
            "min_width": null,
            "object_fit": null,
            "object_position": null,
            "order": null,
            "overflow": null,
            "overflow_x": null,
            "overflow_y": null,
            "padding": null,
            "right": null,
            "top": null,
            "visibility": null,
            "width": null
          }
        },
        "a0b6459cd7b84170a0ebd3e47cf2663c": {
          "model_module": "@jupyter-widgets/controls",
          "model_name": "DescriptionStyleModel",
          "model_module_version": "1.5.0",
          "state": {
            "_model_module": "@jupyter-widgets/controls",
            "_model_module_version": "1.5.0",
            "_model_name": "DescriptionStyleModel",
            "_view_count": null,
            "_view_module": "@jupyter-widgets/base",
            "_view_module_version": "1.2.0",
            "_view_name": "StyleView",
            "description_width": ""
          }
        },
        "16a9b56919dc441a98b675f7ab0ba616": {
          "model_module": "@jupyter-widgets/controls",
          "model_name": "HBoxModel",
          "model_module_version": "1.5.0",
          "state": {
            "_dom_classes": [],
            "_model_module": "@jupyter-widgets/controls",
            "_model_module_version": "1.5.0",
            "_model_name": "HBoxModel",
            "_view_count": null,
            "_view_module": "@jupyter-widgets/controls",
            "_view_module_version": "1.5.0",
            "_view_name": "HBoxView",
            "box_style": "",
            "children": [
              "IPY_MODEL_4dd51dfe21d84672be3dce569127cf21",
              "IPY_MODEL_b32f61cff854421c864a3e6529a7edbf",
              "IPY_MODEL_ee2a71b3e36d4053ba26d85e94a72b38"
            ],
            "layout": "IPY_MODEL_46c0f42e2af54e0eab8ffcb60c9d98e8"
          }
        },
        "4dd51dfe21d84672be3dce569127cf21": {
          "model_module": "@jupyter-widgets/controls",
          "model_name": "HTMLModel",
          "model_module_version": "1.5.0",
          "state": {
            "_dom_classes": [],
            "_model_module": "@jupyter-widgets/controls",
            "_model_module_version": "1.5.0",
            "_model_name": "HTMLModel",
            "_view_count": null,
            "_view_module": "@jupyter-widgets/controls",
            "_view_module_version": "1.5.0",
            "_view_name": "HTMLView",
            "description": "",
            "description_tooltip": null,
            "layout": "IPY_MODEL_5ff1c45a78164b5fbaaae89a5601c413",
            "placeholder": "​",
            "style": "IPY_MODEL_082d730a7d524ff0891d74f9a7690590",
            "value": "config.json: 100%"
          }
        },
        "b32f61cff854421c864a3e6529a7edbf": {
          "model_module": "@jupyter-widgets/controls",
          "model_name": "FloatProgressModel",
          "model_module_version": "1.5.0",
          "state": {
            "_dom_classes": [],
            "_model_module": "@jupyter-widgets/controls",
            "_model_module_version": "1.5.0",
            "_model_name": "FloatProgressModel",
            "_view_count": null,
            "_view_module": "@jupyter-widgets/controls",
            "_view_module_version": "1.5.0",
            "_view_name": "ProgressView",
            "bar_style": "success",
            "description": "",
            "description_tooltip": null,
            "layout": "IPY_MODEL_958116c5759c4acda473b8e57fe1d928",
            "max": 313,
            "min": 0,
            "orientation": "horizontal",
            "style": "IPY_MODEL_e0cf1d6916474a0da17e5fd8fac13daa",
            "value": 313
          }
        },
        "ee2a71b3e36d4053ba26d85e94a72b38": {
          "model_module": "@jupyter-widgets/controls",
          "model_name": "HTMLModel",
          "model_module_version": "1.5.0",
          "state": {
            "_dom_classes": [],
            "_model_module": "@jupyter-widgets/controls",
            "_model_module_version": "1.5.0",
            "_model_name": "HTMLModel",
            "_view_count": null,
            "_view_module": "@jupyter-widgets/controls",
            "_view_module_version": "1.5.0",
            "_view_name": "HTMLView",
            "description": "",
            "description_tooltip": null,
            "layout": "IPY_MODEL_aee97e4060164991a6f278483aac9dd2",
            "placeholder": "​",
            "style": "IPY_MODEL_a3c1ac1e4a594799b5e66080dceb8981",
            "value": " 313/313 [00:00&lt;00:00, 19.3kB/s]"
          }
        },
        "46c0f42e2af54e0eab8ffcb60c9d98e8": {
          "model_module": "@jupyter-widgets/base",
          "model_name": "LayoutModel",
          "model_module_version": "1.2.0",
          "state": {
            "_model_module": "@jupyter-widgets/base",
            "_model_module_version": "1.2.0",
            "_model_name": "LayoutModel",
            "_view_count": null,
            "_view_module": "@jupyter-widgets/base",
            "_view_module_version": "1.2.0",
            "_view_name": "LayoutView",
            "align_content": null,
            "align_items": null,
            "align_self": null,
            "border": null,
            "bottom": null,
            "display": null,
            "flex": null,
            "flex_flow": null,
            "grid_area": null,
            "grid_auto_columns": null,
            "grid_auto_flow": null,
            "grid_auto_rows": null,
            "grid_column": null,
            "grid_gap": null,
            "grid_row": null,
            "grid_template_areas": null,
            "grid_template_columns": null,
            "grid_template_rows": null,
            "height": null,
            "justify_content": null,
            "justify_items": null,
            "left": null,
            "margin": null,
            "max_height": null,
            "max_width": null,
            "min_height": null,
            "min_width": null,
            "object_fit": null,
            "object_position": null,
            "order": null,
            "overflow": null,
            "overflow_x": null,
            "overflow_y": null,
            "padding": null,
            "right": null,
            "top": null,
            "visibility": null,
            "width": null
          }
        },
        "5ff1c45a78164b5fbaaae89a5601c413": {
          "model_module": "@jupyter-widgets/base",
          "model_name": "LayoutModel",
          "model_module_version": "1.2.0",
          "state": {
            "_model_module": "@jupyter-widgets/base",
            "_model_module_version": "1.2.0",
            "_model_name": "LayoutModel",
            "_view_count": null,
            "_view_module": "@jupyter-widgets/base",
            "_view_module_version": "1.2.0",
            "_view_name": "LayoutView",
            "align_content": null,
            "align_items": null,
            "align_self": null,
            "border": null,
            "bottom": null,
            "display": null,
            "flex": null,
            "flex_flow": null,
            "grid_area": null,
            "grid_auto_columns": null,
            "grid_auto_flow": null,
            "grid_auto_rows": null,
            "grid_column": null,
            "grid_gap": null,
            "grid_row": null,
            "grid_template_areas": null,
            "grid_template_columns": null,
            "grid_template_rows": null,
            "height": null,
            "justify_content": null,
            "justify_items": null,
            "left": null,
            "margin": null,
            "max_height": null,
            "max_width": null,
            "min_height": null,
            "min_width": null,
            "object_fit": null,
            "object_position": null,
            "order": null,
            "overflow": null,
            "overflow_x": null,
            "overflow_y": null,
            "padding": null,
            "right": null,
            "top": null,
            "visibility": null,
            "width": null
          }
        },
        "082d730a7d524ff0891d74f9a7690590": {
          "model_module": "@jupyter-widgets/controls",
          "model_name": "DescriptionStyleModel",
          "model_module_version": "1.5.0",
          "state": {
            "_model_module": "@jupyter-widgets/controls",
            "_model_module_version": "1.5.0",
            "_model_name": "DescriptionStyleModel",
            "_view_count": null,
            "_view_module": "@jupyter-widgets/base",
            "_view_module_version": "1.2.0",
            "_view_name": "StyleView",
            "description_width": ""
          }
        },
        "958116c5759c4acda473b8e57fe1d928": {
          "model_module": "@jupyter-widgets/base",
          "model_name": "LayoutModel",
          "model_module_version": "1.2.0",
          "state": {
            "_model_module": "@jupyter-widgets/base",
            "_model_module_version": "1.2.0",
            "_model_name": "LayoutModel",
            "_view_count": null,
            "_view_module": "@jupyter-widgets/base",
            "_view_module_version": "1.2.0",
            "_view_name": "LayoutView",
            "align_content": null,
            "align_items": null,
            "align_self": null,
            "border": null,
            "bottom": null,
            "display": null,
            "flex": null,
            "flex_flow": null,
            "grid_area": null,
            "grid_auto_columns": null,
            "grid_auto_flow": null,
            "grid_auto_rows": null,
            "grid_column": null,
            "grid_gap": null,
            "grid_row": null,
            "grid_template_areas": null,
            "grid_template_columns": null,
            "grid_template_rows": null,
            "height": null,
            "justify_content": null,
            "justify_items": null,
            "left": null,
            "margin": null,
            "max_height": null,
            "max_width": null,
            "min_height": null,
            "min_width": null,
            "object_fit": null,
            "object_position": null,
            "order": null,
            "overflow": null,
            "overflow_x": null,
            "overflow_y": null,
            "padding": null,
            "right": null,
            "top": null,
            "visibility": null,
            "width": null
          }
        },
        "e0cf1d6916474a0da17e5fd8fac13daa": {
          "model_module": "@jupyter-widgets/controls",
          "model_name": "ProgressStyleModel",
          "model_module_version": "1.5.0",
          "state": {
            "_model_module": "@jupyter-widgets/controls",
            "_model_module_version": "1.5.0",
            "_model_name": "ProgressStyleModel",
            "_view_count": null,
            "_view_module": "@jupyter-widgets/base",
            "_view_module_version": "1.2.0",
            "_view_name": "StyleView",
            "bar_color": null,
            "description_width": ""
          }
        },
        "aee97e4060164991a6f278483aac9dd2": {
          "model_module": "@jupyter-widgets/base",
          "model_name": "LayoutModel",
          "model_module_version": "1.2.0",
          "state": {
            "_model_module": "@jupyter-widgets/base",
            "_model_module_version": "1.2.0",
            "_model_name": "LayoutModel",
            "_view_count": null,
            "_view_module": "@jupyter-widgets/base",
            "_view_module_version": "1.2.0",
            "_view_name": "LayoutView",
            "align_content": null,
            "align_items": null,
            "align_self": null,
            "border": null,
            "bottom": null,
            "display": null,
            "flex": null,
            "flex_flow": null,
            "grid_area": null,
            "grid_auto_columns": null,
            "grid_auto_flow": null,
            "grid_auto_rows": null,
            "grid_column": null,
            "grid_gap": null,
            "grid_row": null,
            "grid_template_areas": null,
            "grid_template_columns": null,
            "grid_template_rows": null,
            "height": null,
            "justify_content": null,
            "justify_items": null,
            "left": null,
            "margin": null,
            "max_height": null,
            "max_width": null,
            "min_height": null,
            "min_width": null,
            "object_fit": null,
            "object_position": null,
            "order": null,
            "overflow": null,
            "overflow_x": null,
            "overflow_y": null,
            "padding": null,
            "right": null,
            "top": null,
            "visibility": null,
            "width": null
          }
        },
        "a3c1ac1e4a594799b5e66080dceb8981": {
          "model_module": "@jupyter-widgets/controls",
          "model_name": "DescriptionStyleModel",
          "model_module_version": "1.5.0",
          "state": {
            "_model_module": "@jupyter-widgets/controls",
            "_model_module_version": "1.5.0",
            "_model_name": "DescriptionStyleModel",
            "_view_count": null,
            "_view_module": "@jupyter-widgets/base",
            "_view_module_version": "1.2.0",
            "_view_name": "StyleView",
            "description_width": ""
          }
        },
        "9ea1830c225c472e90f2cbc1a23a9160": {
          "model_module": "@jupyter-widgets/controls",
          "model_name": "HBoxModel",
          "model_module_version": "1.5.0",
          "state": {
            "_dom_classes": [],
            "_model_module": "@jupyter-widgets/controls",
            "_model_module_version": "1.5.0",
            "_model_name": "HBoxModel",
            "_view_count": null,
            "_view_module": "@jupyter-widgets/controls",
            "_view_module_version": "1.5.0",
            "_view_name": "HBoxView",
            "box_style": "",
            "children": [
              "IPY_MODEL_99abaf1d20b44064a30c728ad4c09a56",
              "IPY_MODEL_1e89d0e900ad4f1ba72427f90368493e",
              "IPY_MODEL_5213fbff83bc4561b4bd10cd2d25a67f"
            ],
            "layout": "IPY_MODEL_24c3219a63db438f9ab930fef8464e3c"
          }
        },
        "99abaf1d20b44064a30c728ad4c09a56": {
          "model_module": "@jupyter-widgets/controls",
          "model_name": "HTMLModel",
          "model_module_version": "1.5.0",
          "state": {
            "_dom_classes": [],
            "_model_module": "@jupyter-widgets/controls",
            "_model_module_version": "1.5.0",
            "_model_name": "HTMLModel",
            "_view_count": null,
            "_view_module": "@jupyter-widgets/controls",
            "_view_module_version": "1.5.0",
            "_view_name": "HTMLView",
            "description": "",
            "description_tooltip": null,
            "layout": "IPY_MODEL_caff530588924a90ad0ecc10bd4fe2f8",
            "placeholder": "​",
            "style": "IPY_MODEL_f7fecc1f00c94a0995bc1960f6a1fb75",
            "value": "Map: 100%"
          }
        },
        "1e89d0e900ad4f1ba72427f90368493e": {
          "model_module": "@jupyter-widgets/controls",
          "model_name": "FloatProgressModel",
          "model_module_version": "1.5.0",
          "state": {
            "_dom_classes": [],
            "_model_module": "@jupyter-widgets/controls",
            "_model_module_version": "1.5.0",
            "_model_name": "FloatProgressModel",
            "_view_count": null,
            "_view_module": "@jupyter-widgets/controls",
            "_view_module_version": "1.5.0",
            "_view_name": "ProgressView",
            "bar_style": "success",
            "description": "",
            "description_tooltip": null,
            "layout": "IPY_MODEL_24075cd5b99d48909fdca59fe148cad3",
            "max": 249915,
            "min": 0,
            "orientation": "horizontal",
            "style": "IPY_MODEL_e2f2cfc285c64aa2b28b1d8049abcf80",
            "value": 249915
          }
        },
        "5213fbff83bc4561b4bd10cd2d25a67f": {
          "model_module": "@jupyter-widgets/controls",
          "model_name": "HTMLModel",
          "model_module_version": "1.5.0",
          "state": {
            "_dom_classes": [],
            "_model_module": "@jupyter-widgets/controls",
            "_model_module_version": "1.5.0",
            "_model_name": "HTMLModel",
            "_view_count": null,
            "_view_module": "@jupyter-widgets/controls",
            "_view_module_version": "1.5.0",
            "_view_name": "HTMLView",
            "description": "",
            "description_tooltip": null,
            "layout": "IPY_MODEL_9e1c97b68c0d411eba81fe18ec233a67",
            "placeholder": "​",
            "style": "IPY_MODEL_4e296e375b4e45758e777217ada51386",
            "value": " 249915/249915 [00:43&lt;00:00, 7026.52 examples/s]"
          }
        },
        "24c3219a63db438f9ab930fef8464e3c": {
          "model_module": "@jupyter-widgets/base",
          "model_name": "LayoutModel",
          "model_module_version": "1.2.0",
          "state": {
            "_model_module": "@jupyter-widgets/base",
            "_model_module_version": "1.2.0",
            "_model_name": "LayoutModel",
            "_view_count": null,
            "_view_module": "@jupyter-widgets/base",
            "_view_module_version": "1.2.0",
            "_view_name": "LayoutView",
            "align_content": null,
            "align_items": null,
            "align_self": null,
            "border": null,
            "bottom": null,
            "display": null,
            "flex": null,
            "flex_flow": null,
            "grid_area": null,
            "grid_auto_columns": null,
            "grid_auto_flow": null,
            "grid_auto_rows": null,
            "grid_column": null,
            "grid_gap": null,
            "grid_row": null,
            "grid_template_areas": null,
            "grid_template_columns": null,
            "grid_template_rows": null,
            "height": null,
            "justify_content": null,
            "justify_items": null,
            "left": null,
            "margin": null,
            "max_height": null,
            "max_width": null,
            "min_height": null,
            "min_width": null,
            "object_fit": null,
            "object_position": null,
            "order": null,
            "overflow": null,
            "overflow_x": null,
            "overflow_y": null,
            "padding": null,
            "right": null,
            "top": null,
            "visibility": null,
            "width": null
          }
        },
        "caff530588924a90ad0ecc10bd4fe2f8": {
          "model_module": "@jupyter-widgets/base",
          "model_name": "LayoutModel",
          "model_module_version": "1.2.0",
          "state": {
            "_model_module": "@jupyter-widgets/base",
            "_model_module_version": "1.2.0",
            "_model_name": "LayoutModel",
            "_view_count": null,
            "_view_module": "@jupyter-widgets/base",
            "_view_module_version": "1.2.0",
            "_view_name": "LayoutView",
            "align_content": null,
            "align_items": null,
            "align_self": null,
            "border": null,
            "bottom": null,
            "display": null,
            "flex": null,
            "flex_flow": null,
            "grid_area": null,
            "grid_auto_columns": null,
            "grid_auto_flow": null,
            "grid_auto_rows": null,
            "grid_column": null,
            "grid_gap": null,
            "grid_row": null,
            "grid_template_areas": null,
            "grid_template_columns": null,
            "grid_template_rows": null,
            "height": null,
            "justify_content": null,
            "justify_items": null,
            "left": null,
            "margin": null,
            "max_height": null,
            "max_width": null,
            "min_height": null,
            "min_width": null,
            "object_fit": null,
            "object_position": null,
            "order": null,
            "overflow": null,
            "overflow_x": null,
            "overflow_y": null,
            "padding": null,
            "right": null,
            "top": null,
            "visibility": null,
            "width": null
          }
        },
        "f7fecc1f00c94a0995bc1960f6a1fb75": {
          "model_module": "@jupyter-widgets/controls",
          "model_name": "DescriptionStyleModel",
          "model_module_version": "1.5.0",
          "state": {
            "_model_module": "@jupyter-widgets/controls",
            "_model_module_version": "1.5.0",
            "_model_name": "DescriptionStyleModel",
            "_view_count": null,
            "_view_module": "@jupyter-widgets/base",
            "_view_module_version": "1.2.0",
            "_view_name": "StyleView",
            "description_width": ""
          }
        },
        "24075cd5b99d48909fdca59fe148cad3": {
          "model_module": "@jupyter-widgets/base",
          "model_name": "LayoutModel",
          "model_module_version": "1.2.0",
          "state": {
            "_model_module": "@jupyter-widgets/base",
            "_model_module_version": "1.2.0",
            "_model_name": "LayoutModel",
            "_view_count": null,
            "_view_module": "@jupyter-widgets/base",
            "_view_module_version": "1.2.0",
            "_view_name": "LayoutView",
            "align_content": null,
            "align_items": null,
            "align_self": null,
            "border": null,
            "bottom": null,
            "display": null,
            "flex": null,
            "flex_flow": null,
            "grid_area": null,
            "grid_auto_columns": null,
            "grid_auto_flow": null,
            "grid_auto_rows": null,
            "grid_column": null,
            "grid_gap": null,
            "grid_row": null,
            "grid_template_areas": null,
            "grid_template_columns": null,
            "grid_template_rows": null,
            "height": null,
            "justify_content": null,
            "justify_items": null,
            "left": null,
            "margin": null,
            "max_height": null,
            "max_width": null,
            "min_height": null,
            "min_width": null,
            "object_fit": null,
            "object_position": null,
            "order": null,
            "overflow": null,
            "overflow_x": null,
            "overflow_y": null,
            "padding": null,
            "right": null,
            "top": null,
            "visibility": null,
            "width": null
          }
        },
        "e2f2cfc285c64aa2b28b1d8049abcf80": {
          "model_module": "@jupyter-widgets/controls",
          "model_name": "ProgressStyleModel",
          "model_module_version": "1.5.0",
          "state": {
            "_model_module": "@jupyter-widgets/controls",
            "_model_module_version": "1.5.0",
            "_model_name": "ProgressStyleModel",
            "_view_count": null,
            "_view_module": "@jupyter-widgets/base",
            "_view_module_version": "1.2.0",
            "_view_name": "StyleView",
            "bar_color": null,
            "description_width": ""
          }
        },
        "9e1c97b68c0d411eba81fe18ec233a67": {
          "model_module": "@jupyter-widgets/base",
          "model_name": "LayoutModel",
          "model_module_version": "1.2.0",
          "state": {
            "_model_module": "@jupyter-widgets/base",
            "_model_module_version": "1.2.0",
            "_model_name": "LayoutModel",
            "_view_count": null,
            "_view_module": "@jupyter-widgets/base",
            "_view_module_version": "1.2.0",
            "_view_name": "LayoutView",
            "align_content": null,
            "align_items": null,
            "align_self": null,
            "border": null,
            "bottom": null,
            "display": null,
            "flex": null,
            "flex_flow": null,
            "grid_area": null,
            "grid_auto_columns": null,
            "grid_auto_flow": null,
            "grid_auto_rows": null,
            "grid_column": null,
            "grid_gap": null,
            "grid_row": null,
            "grid_template_areas": null,
            "grid_template_columns": null,
            "grid_template_rows": null,
            "height": null,
            "justify_content": null,
            "justify_items": null,
            "left": null,
            "margin": null,
            "max_height": null,
            "max_width": null,
            "min_height": null,
            "min_width": null,
            "object_fit": null,
            "object_position": null,
            "order": null,
            "overflow": null,
            "overflow_x": null,
            "overflow_y": null,
            "padding": null,
            "right": null,
            "top": null,
            "visibility": null,
            "width": null
          }
        },
        "4e296e375b4e45758e777217ada51386": {
          "model_module": "@jupyter-widgets/controls",
          "model_name": "DescriptionStyleModel",
          "model_module_version": "1.5.0",
          "state": {
            "_model_module": "@jupyter-widgets/controls",
            "_model_module_version": "1.5.0",
            "_model_name": "DescriptionStyleModel",
            "_view_count": null,
            "_view_module": "@jupyter-widgets/base",
            "_view_module_version": "1.2.0",
            "_view_name": "StyleView",
            "description_width": ""
          }
        },
        "39014efee12542ba9f1ca6dc38ce6480": {
          "model_module": "@jupyter-widgets/controls",
          "model_name": "HBoxModel",
          "model_module_version": "1.5.0",
          "state": {
            "_dom_classes": [],
            "_model_module": "@jupyter-widgets/controls",
            "_model_module_version": "1.5.0",
            "_model_name": "HBoxModel",
            "_view_count": null,
            "_view_module": "@jupyter-widgets/controls",
            "_view_module_version": "1.5.0",
            "_view_name": "HBoxView",
            "box_style": "",
            "children": [
              "IPY_MODEL_434ffec89bac4b0ab0edd2e757b2eeca",
              "IPY_MODEL_043fd91cb25d491c9b47c5fda2f61d9c",
              "IPY_MODEL_3711db45e12d440788bd64a58c1e9111"
            ],
            "layout": "IPY_MODEL_52d13810904649d2b12667a7a408fa40"
          }
        },
        "434ffec89bac4b0ab0edd2e757b2eeca": {
          "model_module": "@jupyter-widgets/controls",
          "model_name": "HTMLModel",
          "model_module_version": "1.5.0",
          "state": {
            "_dom_classes": [],
            "_model_module": "@jupyter-widgets/controls",
            "_model_module_version": "1.5.0",
            "_model_name": "HTMLModel",
            "_view_count": null,
            "_view_module": "@jupyter-widgets/controls",
            "_view_module_version": "1.5.0",
            "_view_name": "HTMLView",
            "description": "",
            "description_tooltip": null,
            "layout": "IPY_MODEL_50af4dc0e0d340b3bdd31baf8ee4dc51",
            "placeholder": "​",
            "style": "IPY_MODEL_6a88279d3c7846fda436fc908c67e437",
            "value": "pytorch_model.bin: 100%"
          }
        },
        "043fd91cb25d491c9b47c5fda2f61d9c": {
          "model_module": "@jupyter-widgets/controls",
          "model_name": "FloatProgressModel",
          "model_module_version": "1.5.0",
          "state": {
            "_dom_classes": [],
            "_model_module": "@jupyter-widgets/controls",
            "_model_module_version": "1.5.0",
            "_model_name": "FloatProgressModel",
            "_view_count": null,
            "_view_module": "@jupyter-widgets/controls",
            "_view_module_version": "1.5.0",
            "_view_name": "ProgressView",
            "bar_style": "success",
            "description": "",
            "description_tooltip": null,
            "layout": "IPY_MODEL_7e9da2f6848c4882b77baf25eef7380e",
            "max": 435780550,
            "min": 0,
            "orientation": "horizontal",
            "style": "IPY_MODEL_af53fd82c95e408e91773a6740c5684a",
            "value": 435780550
          }
        },
        "3711db45e12d440788bd64a58c1e9111": {
          "model_module": "@jupyter-widgets/controls",
          "model_name": "HTMLModel",
          "model_module_version": "1.5.0",
          "state": {
            "_dom_classes": [],
            "_model_module": "@jupyter-widgets/controls",
            "_model_module_version": "1.5.0",
            "_model_name": "HTMLModel",
            "_view_count": null,
            "_view_module": "@jupyter-widgets/controls",
            "_view_module_version": "1.5.0",
            "_view_name": "HTMLView",
            "description": "",
            "description_tooltip": null,
            "layout": "IPY_MODEL_e46c9ac870e24242b309a5c7d92a513a",
            "placeholder": "​",
            "style": "IPY_MODEL_ffc8edebcba34d61abb14c2f2f30ad67",
            "value": " 436M/436M [00:06&lt;00:00, 73.0MB/s]"
          }
        },
        "52d13810904649d2b12667a7a408fa40": {
          "model_module": "@jupyter-widgets/base",
          "model_name": "LayoutModel",
          "model_module_version": "1.2.0",
          "state": {
            "_model_module": "@jupyter-widgets/base",
            "_model_module_version": "1.2.0",
            "_model_name": "LayoutModel",
            "_view_count": null,
            "_view_module": "@jupyter-widgets/base",
            "_view_module_version": "1.2.0",
            "_view_name": "LayoutView",
            "align_content": null,
            "align_items": null,
            "align_self": null,
            "border": null,
            "bottom": null,
            "display": null,
            "flex": null,
            "flex_flow": null,
            "grid_area": null,
            "grid_auto_columns": null,
            "grid_auto_flow": null,
            "grid_auto_rows": null,
            "grid_column": null,
            "grid_gap": null,
            "grid_row": null,
            "grid_template_areas": null,
            "grid_template_columns": null,
            "grid_template_rows": null,
            "height": null,
            "justify_content": null,
            "justify_items": null,
            "left": null,
            "margin": null,
            "max_height": null,
            "max_width": null,
            "min_height": null,
            "min_width": null,
            "object_fit": null,
            "object_position": null,
            "order": null,
            "overflow": null,
            "overflow_x": null,
            "overflow_y": null,
            "padding": null,
            "right": null,
            "top": null,
            "visibility": null,
            "width": null
          }
        },
        "50af4dc0e0d340b3bdd31baf8ee4dc51": {
          "model_module": "@jupyter-widgets/base",
          "model_name": "LayoutModel",
          "model_module_version": "1.2.0",
          "state": {
            "_model_module": "@jupyter-widgets/base",
            "_model_module_version": "1.2.0",
            "_model_name": "LayoutModel",
            "_view_count": null,
            "_view_module": "@jupyter-widgets/base",
            "_view_module_version": "1.2.0",
            "_view_name": "LayoutView",
            "align_content": null,
            "align_items": null,
            "align_self": null,
            "border": null,
            "bottom": null,
            "display": null,
            "flex": null,
            "flex_flow": null,
            "grid_area": null,
            "grid_auto_columns": null,
            "grid_auto_flow": null,
            "grid_auto_rows": null,
            "grid_column": null,
            "grid_gap": null,
            "grid_row": null,
            "grid_template_areas": null,
            "grid_template_columns": null,
            "grid_template_rows": null,
            "height": null,
            "justify_content": null,
            "justify_items": null,
            "left": null,
            "margin": null,
            "max_height": null,
            "max_width": null,
            "min_height": null,
            "min_width": null,
            "object_fit": null,
            "object_position": null,
            "order": null,
            "overflow": null,
            "overflow_x": null,
            "overflow_y": null,
            "padding": null,
            "right": null,
            "top": null,
            "visibility": null,
            "width": null
          }
        },
        "6a88279d3c7846fda436fc908c67e437": {
          "model_module": "@jupyter-widgets/controls",
          "model_name": "DescriptionStyleModel",
          "model_module_version": "1.5.0",
          "state": {
            "_model_module": "@jupyter-widgets/controls",
            "_model_module_version": "1.5.0",
            "_model_name": "DescriptionStyleModel",
            "_view_count": null,
            "_view_module": "@jupyter-widgets/base",
            "_view_module_version": "1.2.0",
            "_view_name": "StyleView",
            "description_width": ""
          }
        },
        "7e9da2f6848c4882b77baf25eef7380e": {
          "model_module": "@jupyter-widgets/base",
          "model_name": "LayoutModel",
          "model_module_version": "1.2.0",
          "state": {
            "_model_module": "@jupyter-widgets/base",
            "_model_module_version": "1.2.0",
            "_model_name": "LayoutModel",
            "_view_count": null,
            "_view_module": "@jupyter-widgets/base",
            "_view_module_version": "1.2.0",
            "_view_name": "LayoutView",
            "align_content": null,
            "align_items": null,
            "align_self": null,
            "border": null,
            "bottom": null,
            "display": null,
            "flex": null,
            "flex_flow": null,
            "grid_area": null,
            "grid_auto_columns": null,
            "grid_auto_flow": null,
            "grid_auto_rows": null,
            "grid_column": null,
            "grid_gap": null,
            "grid_row": null,
            "grid_template_areas": null,
            "grid_template_columns": null,
            "grid_template_rows": null,
            "height": null,
            "justify_content": null,
            "justify_items": null,
            "left": null,
            "margin": null,
            "max_height": null,
            "max_width": null,
            "min_height": null,
            "min_width": null,
            "object_fit": null,
            "object_position": null,
            "order": null,
            "overflow": null,
            "overflow_x": null,
            "overflow_y": null,
            "padding": null,
            "right": null,
            "top": null,
            "visibility": null,
            "width": null
          }
        },
        "af53fd82c95e408e91773a6740c5684a": {
          "model_module": "@jupyter-widgets/controls",
          "model_name": "ProgressStyleModel",
          "model_module_version": "1.5.0",
          "state": {
            "_model_module": "@jupyter-widgets/controls",
            "_model_module_version": "1.5.0",
            "_model_name": "ProgressStyleModel",
            "_view_count": null,
            "_view_module": "@jupyter-widgets/base",
            "_view_module_version": "1.2.0",
            "_view_name": "StyleView",
            "bar_color": null,
            "description_width": ""
          }
        },
        "e46c9ac870e24242b309a5c7d92a513a": {
          "model_module": "@jupyter-widgets/base",
          "model_name": "LayoutModel",
          "model_module_version": "1.2.0",
          "state": {
            "_model_module": "@jupyter-widgets/base",
            "_model_module_version": "1.2.0",
            "_model_name": "LayoutModel",
            "_view_count": null,
            "_view_module": "@jupyter-widgets/base",
            "_view_module_version": "1.2.0",
            "_view_name": "LayoutView",
            "align_content": null,
            "align_items": null,
            "align_self": null,
            "border": null,
            "bottom": null,
            "display": null,
            "flex": null,
            "flex_flow": null,
            "grid_area": null,
            "grid_auto_columns": null,
            "grid_auto_flow": null,
            "grid_auto_rows": null,
            "grid_column": null,
            "grid_gap": null,
            "grid_row": null,
            "grid_template_areas": null,
            "grid_template_columns": null,
            "grid_template_rows": null,
            "height": null,
            "justify_content": null,
            "justify_items": null,
            "left": null,
            "margin": null,
            "max_height": null,
            "max_width": null,
            "min_height": null,
            "min_width": null,
            "object_fit": null,
            "object_position": null,
            "order": null,
            "overflow": null,
            "overflow_x": null,
            "overflow_y": null,
            "padding": null,
            "right": null,
            "top": null,
            "visibility": null,
            "width": null
          }
        },
        "ffc8edebcba34d61abb14c2f2f30ad67": {
          "model_module": "@jupyter-widgets/controls",
          "model_name": "DescriptionStyleModel",
          "model_module_version": "1.5.0",
          "state": {
            "_model_module": "@jupyter-widgets/controls",
            "_model_module_version": "1.5.0",
            "_model_name": "DescriptionStyleModel",
            "_view_count": null,
            "_view_module": "@jupyter-widgets/base",
            "_view_module_version": "1.2.0",
            "_view_name": "StyleView",
            "description_width": ""
          }
        },
        "1487a62b07ce4e40a2e18d1161297013": {
          "model_module": "@jupyter-widgets/controls",
          "model_name": "HBoxModel",
          "model_module_version": "1.5.0",
          "state": {
            "_dom_classes": [],
            "_model_module": "@jupyter-widgets/controls",
            "_model_module_version": "1.5.0",
            "_model_name": "HBoxModel",
            "_view_count": null,
            "_view_module": "@jupyter-widgets/controls",
            "_view_module_version": "1.5.0",
            "_view_name": "HBoxView",
            "box_style": "",
            "children": [
              "IPY_MODEL_7158c3996339400fb30c6d6f2be8af78",
              "IPY_MODEL_a57c8b9b09c147d0a179e553eef3198f",
              "IPY_MODEL_efe2b93488414dfb9c12390eeb76f6b5"
            ],
            "layout": "IPY_MODEL_e52f4fa07ec44d688d2193cee16689e9"
          }
        },
        "7158c3996339400fb30c6d6f2be8af78": {
          "model_module": "@jupyter-widgets/controls",
          "model_name": "HTMLModel",
          "model_module_version": "1.5.0",
          "state": {
            "_dom_classes": [],
            "_model_module": "@jupyter-widgets/controls",
            "_model_module_version": "1.5.0",
            "_model_name": "HTMLModel",
            "_view_count": null,
            "_view_module": "@jupyter-widgets/controls",
            "_view_module_version": "1.5.0",
            "_view_name": "HTMLView",
            "description": "",
            "description_tooltip": null,
            "layout": "IPY_MODEL_a265c5265f544e01873aec836477e13a",
            "placeholder": "​",
            "style": "IPY_MODEL_e7d869a2cec94ff4bc3cf3ef0e0819bf",
            "value": "Map: 100%"
          }
        },
        "a57c8b9b09c147d0a179e553eef3198f": {
          "model_module": "@jupyter-widgets/controls",
          "model_name": "FloatProgressModel",
          "model_module_version": "1.5.0",
          "state": {
            "_dom_classes": [],
            "_model_module": "@jupyter-widgets/controls",
            "_model_module_version": "1.5.0",
            "_model_name": "FloatProgressModel",
            "_view_count": null,
            "_view_module": "@jupyter-widgets/controls",
            "_view_module_version": "1.5.0",
            "_view_name": "ProgressView",
            "bar_style": "success",
            "description": "",
            "description_tooltip": null,
            "layout": "IPY_MODEL_2e4772ee9af34a15a090b1ea2efbcad8",
            "max": 249915,
            "min": 0,
            "orientation": "horizontal",
            "style": "IPY_MODEL_a23b70a0d6184b8bad384fa44fa2f06b",
            "value": 249915
          }
        },
        "efe2b93488414dfb9c12390eeb76f6b5": {
          "model_module": "@jupyter-widgets/controls",
          "model_name": "HTMLModel",
          "model_module_version": "1.5.0",
          "state": {
            "_dom_classes": [],
            "_model_module": "@jupyter-widgets/controls",
            "_model_module_version": "1.5.0",
            "_model_name": "HTMLModel",
            "_view_count": null,
            "_view_module": "@jupyter-widgets/controls",
            "_view_module_version": "1.5.0",
            "_view_name": "HTMLView",
            "description": "",
            "description_tooltip": null,
            "layout": "IPY_MODEL_5a1f4f54cc8d4ad2a4b114ad7c92cf3c",
            "placeholder": "​",
            "style": "IPY_MODEL_e433dbae4a7548a4a254ef61ad25fffd",
            "value": " 249915/249915 [00:39&lt;00:00, 7471.69 examples/s]"
          }
        },
        "e52f4fa07ec44d688d2193cee16689e9": {
          "model_module": "@jupyter-widgets/base",
          "model_name": "LayoutModel",
          "model_module_version": "1.2.0",
          "state": {
            "_model_module": "@jupyter-widgets/base",
            "_model_module_version": "1.2.0",
            "_model_name": "LayoutModel",
            "_view_count": null,
            "_view_module": "@jupyter-widgets/base",
            "_view_module_version": "1.2.0",
            "_view_name": "LayoutView",
            "align_content": null,
            "align_items": null,
            "align_self": null,
            "border": null,
            "bottom": null,
            "display": null,
            "flex": null,
            "flex_flow": null,
            "grid_area": null,
            "grid_auto_columns": null,
            "grid_auto_flow": null,
            "grid_auto_rows": null,
            "grid_column": null,
            "grid_gap": null,
            "grid_row": null,
            "grid_template_areas": null,
            "grid_template_columns": null,
            "grid_template_rows": null,
            "height": null,
            "justify_content": null,
            "justify_items": null,
            "left": null,
            "margin": null,
            "max_height": null,
            "max_width": null,
            "min_height": null,
            "min_width": null,
            "object_fit": null,
            "object_position": null,
            "order": null,
            "overflow": null,
            "overflow_x": null,
            "overflow_y": null,
            "padding": null,
            "right": null,
            "top": null,
            "visibility": null,
            "width": null
          }
        },
        "a265c5265f544e01873aec836477e13a": {
          "model_module": "@jupyter-widgets/base",
          "model_name": "LayoutModel",
          "model_module_version": "1.2.0",
          "state": {
            "_model_module": "@jupyter-widgets/base",
            "_model_module_version": "1.2.0",
            "_model_name": "LayoutModel",
            "_view_count": null,
            "_view_module": "@jupyter-widgets/base",
            "_view_module_version": "1.2.0",
            "_view_name": "LayoutView",
            "align_content": null,
            "align_items": null,
            "align_self": null,
            "border": null,
            "bottom": null,
            "display": null,
            "flex": null,
            "flex_flow": null,
            "grid_area": null,
            "grid_auto_columns": null,
            "grid_auto_flow": null,
            "grid_auto_rows": null,
            "grid_column": null,
            "grid_gap": null,
            "grid_row": null,
            "grid_template_areas": null,
            "grid_template_columns": null,
            "grid_template_rows": null,
            "height": null,
            "justify_content": null,
            "justify_items": null,
            "left": null,
            "margin": null,
            "max_height": null,
            "max_width": null,
            "min_height": null,
            "min_width": null,
            "object_fit": null,
            "object_position": null,
            "order": null,
            "overflow": null,
            "overflow_x": null,
            "overflow_y": null,
            "padding": null,
            "right": null,
            "top": null,
            "visibility": null,
            "width": null
          }
        },
        "e7d869a2cec94ff4bc3cf3ef0e0819bf": {
          "model_module": "@jupyter-widgets/controls",
          "model_name": "DescriptionStyleModel",
          "model_module_version": "1.5.0",
          "state": {
            "_model_module": "@jupyter-widgets/controls",
            "_model_module_version": "1.5.0",
            "_model_name": "DescriptionStyleModel",
            "_view_count": null,
            "_view_module": "@jupyter-widgets/base",
            "_view_module_version": "1.2.0",
            "_view_name": "StyleView",
            "description_width": ""
          }
        },
        "2e4772ee9af34a15a090b1ea2efbcad8": {
          "model_module": "@jupyter-widgets/base",
          "model_name": "LayoutModel",
          "model_module_version": "1.2.0",
          "state": {
            "_model_module": "@jupyter-widgets/base",
            "_model_module_version": "1.2.0",
            "_model_name": "LayoutModel",
            "_view_count": null,
            "_view_module": "@jupyter-widgets/base",
            "_view_module_version": "1.2.0",
            "_view_name": "LayoutView",
            "align_content": null,
            "align_items": null,
            "align_self": null,
            "border": null,
            "bottom": null,
            "display": null,
            "flex": null,
            "flex_flow": null,
            "grid_area": null,
            "grid_auto_columns": null,
            "grid_auto_flow": null,
            "grid_auto_rows": null,
            "grid_column": null,
            "grid_gap": null,
            "grid_row": null,
            "grid_template_areas": null,
            "grid_template_columns": null,
            "grid_template_rows": null,
            "height": null,
            "justify_content": null,
            "justify_items": null,
            "left": null,
            "margin": null,
            "max_height": null,
            "max_width": null,
            "min_height": null,
            "min_width": null,
            "object_fit": null,
            "object_position": null,
            "order": null,
            "overflow": null,
            "overflow_x": null,
            "overflow_y": null,
            "padding": null,
            "right": null,
            "top": null,
            "visibility": null,
            "width": null
          }
        },
        "a23b70a0d6184b8bad384fa44fa2f06b": {
          "model_module": "@jupyter-widgets/controls",
          "model_name": "ProgressStyleModel",
          "model_module_version": "1.5.0",
          "state": {
            "_model_module": "@jupyter-widgets/controls",
            "_model_module_version": "1.5.0",
            "_model_name": "ProgressStyleModel",
            "_view_count": null,
            "_view_module": "@jupyter-widgets/base",
            "_view_module_version": "1.2.0",
            "_view_name": "StyleView",
            "bar_color": null,
            "description_width": ""
          }
        },
        "5a1f4f54cc8d4ad2a4b114ad7c92cf3c": {
          "model_module": "@jupyter-widgets/base",
          "model_name": "LayoutModel",
          "model_module_version": "1.2.0",
          "state": {
            "_model_module": "@jupyter-widgets/base",
            "_model_module_version": "1.2.0",
            "_model_name": "LayoutModel",
            "_view_count": null,
            "_view_module": "@jupyter-widgets/base",
            "_view_module_version": "1.2.0",
            "_view_name": "LayoutView",
            "align_content": null,
            "align_items": null,
            "align_self": null,
            "border": null,
            "bottom": null,
            "display": null,
            "flex": null,
            "flex_flow": null,
            "grid_area": null,
            "grid_auto_columns": null,
            "grid_auto_flow": null,
            "grid_auto_rows": null,
            "grid_column": null,
            "grid_gap": null,
            "grid_row": null,
            "grid_template_areas": null,
            "grid_template_columns": null,
            "grid_template_rows": null,
            "height": null,
            "justify_content": null,
            "justify_items": null,
            "left": null,
            "margin": null,
            "max_height": null,
            "max_width": null,
            "min_height": null,
            "min_width": null,
            "object_fit": null,
            "object_position": null,
            "order": null,
            "overflow": null,
            "overflow_x": null,
            "overflow_y": null,
            "padding": null,
            "right": null,
            "top": null,
            "visibility": null,
            "width": null
          }
        },
        "e433dbae4a7548a4a254ef61ad25fffd": {
          "model_module": "@jupyter-widgets/controls",
          "model_name": "DescriptionStyleModel",
          "model_module_version": "1.5.0",
          "state": {
            "_model_module": "@jupyter-widgets/controls",
            "_model_module_version": "1.5.0",
            "_model_name": "DescriptionStyleModel",
            "_view_count": null,
            "_view_module": "@jupyter-widgets/base",
            "_view_module_version": "1.2.0",
            "_view_name": "StyleView",
            "description_width": ""
          }
        }
      }
    },
    "accelerator": "GPU"
  },
  "nbformat": 4,
  "nbformat_minor": 0
}